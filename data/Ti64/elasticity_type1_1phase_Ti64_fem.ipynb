{
 "cells": [
  {
   "attachments": {},
   "cell_type": "markdown",
   "metadata": {},
   "source": [
    "Generate FEM solution for 2D plane stress problem\n",
    "\n",
    "* Fix the right boundary in x direction; fix bottom boundary in y direction, apply uniaxial loading at top boundary\n",
    "* Output dirich_idx, dirich_value; traction_idx, traction_value; bodyforce; solution; materials (E, v)\n",
    "* The unit is GPa\n",
    "* Please note that the node numbering in FEM and CNN is reverse in y direction"
   ]
  },
  {
   "cell_type": "code",
   "execution_count": 1,
   "metadata": {},
   "outputs": [],
   "source": [
    "from PIL import Image\n",
    "\n",
    "import meshio\n",
    "import numpy as np\n",
    "import matplotlib.pyplot as plt\n",
    "import random\n",
    "import h5py"
   ]
  },
  {
   "cell_type": "code",
   "execution_count": 2,
   "metadata": {},
   "outputs": [],
   "source": [
    "# pre-define the problem\n",
    "n_elem = 2**8\n",
    "Fy = 222.22e-3 # GPa, along y direction\n",
    "datafile = \"Ti64_256x256.h5\"\n",
    "samples = ['G5v', 'G6a', 'Y6v', 'Y6a']\n",
    "n_data = len(samples)"
   ]
  },
  {
   "cell_type": "code",
   "execution_count": 3,
   "metadata": {},
   "outputs": [
    {
     "data": {
      "text/plain": [
       "array([[1, 2, 3],\n",
       "       [2, 3, 4],\n",
       "       [5, 6, 7]])"
      ]
     },
     "execution_count": 3,
     "metadata": {},
     "output_type": "execute_result"
    }
   ],
   "source": [
    "A = np.array([[1,2,3],[2,3,4],[5,6,7]])\n",
    "A"
   ]
  },
  {
   "cell_type": "code",
   "execution_count": 4,
   "metadata": {},
   "outputs": [
    {
     "data": {
      "text/plain": [
       "array([[5, 6, 7],\n",
       "       [2, 3, 4],\n",
       "       [1, 2, 3]])"
      ]
     },
     "execution_count": 4,
     "metadata": {},
     "output_type": "execute_result"
    }
   ],
   "source": [
    "np.flip(A, axis=0)"
   ]
  },
  {
   "cell_type": "code",
   "execution_count": 5,
   "metadata": {},
   "outputs": [],
   "source": [
    "# im = Image.open(sample+'_XZ_128_new.tif')\n",
    "im = Image.open(samples[0]+'_XZ_256.tif')\n",
    "# im = Image.open('amga6__rec00001201_yz_select280_erode+dilate.tif')\n",
    "# imarray = np.flip(np.array(im)/255, axis=0)\n",
    "imarray = np.array(im)/255"
   ]
  },
  {
   "cell_type": "code",
   "execution_count": 6,
   "metadata": {},
   "outputs": [
    {
     "data": {
      "image/png": "[encoded data removed]",
      "text/plain": [
       "<Figure size 640x480 with 2 Axes>"
      ]
     },
     "metadata": {},
     "output_type": "display_data"
    }
   ],
   "source": [
    "def plot_image(img):\n",
    "    fig = plt.figure()\n",
    "    im1 = plt.imshow(img)\n",
    "    plt.axis('off')\n",
    "    plt.colorbar(im1)\n",
    "\n",
    "plot_image(imarray)"
   ]
  },
  {
   "cell_type": "code",
   "execution_count": 7,
   "metadata": {},
   "outputs": [],
   "source": [
    "def combine_vectors(v):\n",
    "    '''combine vectors v (n, n, 2) to (2xnxn)'''\n",
    "    _, n, _ = v.shape\n",
    "    u = np.zeros(shape=(2*n*n,))\n",
    "    u[0::2] = v[:, :, 0].reshape(n*n)\n",
    "    u[1::2] = v[:, :, 1].reshape(n*n)\n",
    "    return u"
   ]
  },
  {
   "cell_type": "code",
   "execution_count": 8,
   "metadata": {},
   "outputs": [],
   "source": [
    "def loading_type1(n, fy):\n",
    "    '''\n",
    "    Loading: \n",
    "    Fix the right boundary [index=-1] in x direction; \n",
    "    Fix bottom boundary [index=0] in y direction;\n",
    "    Apply uniaxial force loading at top boundary [index=-1] in y direction\n",
    "    0 is x, 1 is y direction\n",
    "    '''\n",
    "\n",
    "    dirich_idx = np.ones((n, n, 2))\n",
    "    dirich_idx[0, :, 1] = 0. # bottom disp bc in y direction\n",
    "    dirich_idx[:, -1, 0] = 0. # right disp bc in x direction\n",
    "    dirich_value = np.zeros_like(dirich_idx)\n",
    "\n",
    "    # define traction boundary, 1.0 traction boundary; 0 else\n",
    "    traction_idx = np.zeros((n, n, 2))\n",
    "    traction_idx[-1, :, 1] = 1. # top force bc in y direction\n",
    "    traction_value = np.zeros_like(traction_idx)\n",
    "    traction_value[-1, :, 1] = fy\n",
    "\n",
    "    return dirich_idx, dirich_value, traction_idx, traction_value"
   ]
  },
  {
   "cell_type": "code",
   "execution_count": 9,
   "metadata": {},
   "outputs": [
    {
     "name": "stdout",
     "output_type": "stream",
     "text": [
      "Problem #-0 generated\n",
      "Problem #-1 generated\n",
      "Problem #-2 generated\n",
      "Problem #-3 generated\n"
     ]
    }
   ],
   "source": [
    "# Create dataset\n",
    "# dataset contains: dirich_idx~2xnxn, dirich_value~2xnxn, traction_idx~2xnxn, traction_value~2xnxn, material~2x(n-1)x(n-1), f~2xnxn, solution~2xnxn\n",
    "\n",
    "dataset = {}\n",
    "dirich_idx_data = np.zeros((n_data, n_elem+1, n_elem+1, 2))\n",
    "dirich_value_data = np.zeros((n_data, n_elem+1, n_elem+1, 2))\n",
    "traction_idx_data = np.zeros((n_data, n_elem+1, n_elem+1, 2))\n",
    "traction_value_data = np.zeros((n_data, n_elem+1, n_elem+1, 2))\n",
    "material_data = np.zeros((n_data, n_elem, n_elem, 2))\n",
    "f_data = np.zeros((n_data, n_elem+1, n_elem+1, 2))\n",
    "u_data = np.zeros((n_data, n_elem+1, n_elem+1, 2))\n",
    "for i in range(n_data):\n",
    "    # load the image\n",
    "    im = Image.open(samples[i]+'_XZ_256.tif')\n",
    "    # imarray = np.array(im)/255\n",
    "    imarray = np.flip(np.array(im)/255, axis=0)\n",
    "\n",
    "    # create the material field\n",
    "    E_field, v_field = 110*imarray, 0.34*imarray\n",
    "    material = np.stack((E_field, v_field), axis=2)\n",
    "    material_data[i] = material \n",
    "\n",
    "    # define boundary conditions\n",
    "    d_list = 2*np.random.rand(2, n_elem+1)-1\n",
    "    t_list = 2*np.random.rand(2, n_elem+1)-1\n",
    "    dirich_idx, dirich_value, traction_idx, traction_value = loading_type1(n_elem+1, Fy)\n",
    "    dirich_idx_data[i] = dirich_idx\n",
    "    dirich_value_data[i] = dirich_value\n",
    "    traction_idx_data[i] = traction_idx\n",
    "    traction_value_data[i] = traction_value\n",
    "    \n",
    "    # define body force field, zero\n",
    "    f1, f2 = np.zeros((n_elem+1,n_elem+1)), np.zeros((n_elem+1,n_elem+1))\n",
    "    f_data[i] = np.stack((f1, f2), axis=2)\n",
    "    f = combine_vectors(f_data[i])\n",
    "\n",
    "    print(\"Problem #-\"+str(i)+\" generated\")"
   ]
  },
  {
   "cell_type": "code",
   "execution_count": 10,
   "metadata": {},
   "outputs": [],
   "source": [
    "dataset['dirich_idx'] = dirich_idx_data\n",
    "dataset['dirich_value'] = dirich_value_data\n",
    "dataset['traction_idx'] = traction_idx_data\n",
    "dataset['traction_value'] = traction_value_data\n",
    "dataset['material'] = material_data\n",
    "dataset['body_force'] = f_data\n",
    "dataset['solution'] = u_data\n",
    "\n",
    "with h5py.File(datafile, \"w\") as hf:\n",
    "    for key, item in dataset.items():\n",
    "        hf[key] = item"
   ]
  },
  {
   "cell_type": "code",
   "execution_count": 11,
   "metadata": {},
   "outputs": [],
   "source": [
    "# prob.Solve(material, d_list, 'jacobi', combine_vectors(traction_value), f)\n",
    "# plt.plot(prob.res_arr)\n",
    "# plt.yscale('log')\n",
    "# plt.show()"
   ]
  },
  {
   "cell_type": "code",
   "execution_count": 12,
   "metadata": {},
   "outputs": [],
   "source": [
    "#q = prob.res_arr[-1]/prob.res_arr[-2]\n",
    "#q"
   ]
  }
 ],
 "metadata": {
  "kernelspec": {
   "display_name": "pytorch13",
   "language": "python",
   "name": "python3"
  },
  "language_info": {
   "codemirror_mode": {
    "name": "ipython",
    "version": 3
   },
   "file_extension": ".py",
   "mimetype": "text/x-python",
   "name": "python",
   "nbconvert_exporter": "python",
   "pygments_lexer": "ipython3",
   "version": "3.10.8"
  },
  "orig_nbformat": 4,
  "vscode": {
   "interpreter": {
    "hash": "dd48361bff80ea39874b59524d4b155fb6d795e83878696713cdb743d5c15d80"
   }
  }
 },
 "nbformat": 4,
 "nbformat_minor": 2
}
