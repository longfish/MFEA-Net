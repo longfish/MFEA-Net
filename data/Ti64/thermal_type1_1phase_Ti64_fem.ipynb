{
 "cells": [
  {
   "attachments": {},
   "cell_type": "markdown",
   "metadata": {},
   "source": [
    "Generate FEM solution for 2D Poisson problem\n",
    "\n",
    "* The mesh configuration is fixed to be square given image as input\n",
    "* Apply both Dirichlet and Neumann boundary conditions for irregular geometry distribution"
   ]
  },
  {
   "cell_type": "code",
   "execution_count": 1,
   "metadata": {},
   "outputs": [],
   "source": [
    "from PIL import Image\n",
    "\n",
    "import meshio\n",
    "import numpy as np\n",
    "import matplotlib.pyplot as plt\n",
    "import gaussian_random_fields as gr\n",
    "import random\n",
    "import h5py"
   ]
  },
  {
   "cell_type": "code",
   "execution_count": 2,
   "metadata": {},
   "outputs": [],
   "source": [
    "datafile = \"Ti64_thermal_256x256.h5\"\n",
    "samples = ['G5v', 'G6a', 'Y6v', 'Y6a']\n",
    "im = Image.open(samples[0]+'_XZ_256.tif')\n",
    "imarray = np.array(im)/255"
   ]
  },
  {
   "cell_type": "code",
   "execution_count": 3,
   "metadata": {},
   "outputs": [],
   "source": [
    "def plot_image(img):\n",
    "    plt.figure()\n",
    "    im1 = plt.imshow(img)\n",
    "    plt.axis('off')\n",
    "    plt.colorbar(im1)\n",
    "\n",
    "#plot_image(imarray) # note this is the element distribution"
   ]
  },
  {
   "cell_type": "code",
   "execution_count": 4,
   "metadata": {},
   "outputs": [
    {
     "data": {
      "image/png": "[encoded data removed]",
      "text/plain": [
       "<Figure size 640x480 with 2 Axes>"
      ]
     },
     "metadata": {},
     "output_type": "display_data"
    }
   ],
   "source": [
    "# reduce the size of the image\n",
    "times = 4\n",
    "imarray = imarray[::times, ::times]\n",
    "plot_image(imarray) # note this is the element distribution"
   ]
  },
  {
   "cell_type": "code",
   "execution_count": 5,
   "metadata": {},
   "outputs": [
    {
     "data": {
      "text/plain": [
       "(array([ 411.,    0.,    0.,    0.,    0.,    0.,    0.,    0.,    0.,\n",
       "        3685.]),\n",
       " array([0. , 0.1, 0.2, 0.3, 0.4, 0.5, 0.6, 0.7, 0.8, 0.9, 1. ]),\n",
       " <BarContainer object of 10 artists>)"
      ]
     },
     "execution_count": 5,
     "metadata": {},
     "output_type": "execute_result"
    },
    {
     "data": {
      "image/png": "[encoded data removed]",
      "text/plain": [
       "<Figure size 640x480 with 1 Axes>"
      ]
     },
     "metadata": {},
     "output_type": "display_data"
    }
   ],
   "source": [
    "plt.hist(imarray.reshape(-1,1))"
   ]
  },
  {
   "cell_type": "code",
   "execution_count": 6,
   "metadata": {},
   "outputs": [],
   "source": [
    "def define_dirich_bc(img):\n",
    "    '''\n",
    "    Define top/right/bottom boundaries to be Dirichlet boundaries\n",
    "    '''\n",
    "    img_node = np.pad(img, ((0,1), (0,1)), 'edge')\n",
    "    dirich = np.ones_like(img_node) == img_node\n",
    "    dirich[1:-1,:-1]= False \n",
    "    return dirich"
   ]
  },
  {
   "cell_type": "code",
   "execution_count": 7,
   "metadata": {},
   "outputs": [],
   "source": [
    "def find_surrounding(img, pt):\n",
    "    '''\n",
    "    Given a point, return a list of points that are surrounding of current point\n",
    "    Sequence starts from top left.\n",
    "    '''\n",
    "    temp = [[pt[0]-1,pt[1]-1],\n",
    "            [pt[0]-1,pt[1]],\n",
    "            [pt[0]-1,pt[1]+1],\n",
    "            [pt[0],pt[1]-1],\n",
    "            [pt[0],pt[1]+1],\n",
    "            [pt[0]+1,pt[1]-1],\n",
    "            [pt[0]+1,pt[1]],\n",
    "            [pt[0]+1,pt[1]+1]]\n",
    "    surrounding = [0, 1, 2, 3, 4, 5, 6, 7]\n",
    "    dict_surrounding = dict(zip(surrounding, temp))\n",
    "    h, w = img.shape\n",
    "    for i, p in enumerate(temp):\n",
    "        if(p[0] < 0 or p[1] < 0 or p[0] >= h or p[1] >= w):\n",
    "            del dict_surrounding[i]\n",
    "    return dict_surrounding"
   ]
  },
  {
   "cell_type": "code",
   "execution_count": 8,
   "metadata": {},
   "outputs": [],
   "source": [
    "def reorder_connection(neumann_conn):\n",
    "    '''\n",
    "    Given a list of connected nodes, write a function to let it to be head-tail connected. \n",
    "    The order of order of each connection can be changed.\n",
    "    For example if the input is [[1,2],[2,4],[6,5],[4,3],[3,5]], the output should be \n",
    "    [[1,2],[2,4],[4,3],[3,5],[5,6]]. The first element of input should keep unchanged. \n",
    "\n",
    "    Input: neumann_conn, a list with each element is a two-element sublist\n",
    "    Output: corrected order neumann_conn \n",
    "    '''\n",
    "\n",
    "    graph = {}\n",
    "    for a, b in neumann_conn:\n",
    "        graph.setdefault(a, []).append(b)\n",
    "        graph.setdefault(b, []).append(a)\n",
    "\n",
    "    visited = set()\n",
    "    result = []\n",
    "\n",
    "    def dfs(node):\n",
    "        for neighbor in graph[node]:\n",
    "            if neighbor not in visited:\n",
    "                visited.add(neighbor)\n",
    "                result.append([node, neighbor])\n",
    "                dfs(neighbor)\n",
    "\n",
    "    # Start from the first node in the input\n",
    "    start_node = neumann_conn[0][0]\n",
    "    visited.add(start_node)\n",
    "    dfs(start_node)\n",
    "\n",
    "    return result"
   ]
  },
  {
   "cell_type": "code",
   "execution_count": 9,
   "metadata": {},
   "outputs": [],
   "source": [
    "def define_neumann_bc(img):\n",
    "    '''\n",
    "    Define left boundary to be Neumann, also need to define connection\n",
    "    The node id is arranged by row-first approach\n",
    "    '''\n",
    "    h_img, w_img = img.shape\n",
    "    neumann = np.zeros((h_img+1, w_img+1))\n",
    "    neumann_conn = []\n",
    "    for i in range(h_img):\n",
    "        for j in range(w_img):\n",
    "            if(img[i,j]==1): # if there is material in current pixel i, j\n",
    "                surrounding = find_surrounding(img, [i,j]) # surrounding pixels\n",
    "                for key in surrounding: \n",
    "                    pt = surrounding[key]\n",
    "                    if(img[pt[0],pt[1]]==0):\n",
    "                        if(key == 0):\n",
    "                            neumann[i,j] = 1\n",
    "                        if(key == 1):\n",
    "                            neumann[i,j] = 1\n",
    "                            neumann[i,j+1] = 1\n",
    "                            neumann_conn.append([\n",
    "                                i*(w_img+1)+j,i*(w_img+1)+j+1\n",
    "                            ]) # generate a connection\n",
    "                        if(key == 2):\n",
    "                            neumann[i,j+1] = 1\n",
    "                        if(key == 3):\n",
    "                            neumann[i,j] = 1\n",
    "                            neumann[i+1,j] = 1\n",
    "                            neumann_conn.append([\n",
    "                                i*(w_img+1)+j,(i+1)*(w_img+1)+j\n",
    "                            ]) # generate a connection\n",
    "                        if(key == 4):\n",
    "                            neumann[i,j+1] = 1\n",
    "                            neumann[i+1,j+1] = 1\n",
    "                            neumann_conn.append([\n",
    "                                i*(w_img+1)+j+1,(i+1)*(w_img+1)+j+1\n",
    "                            ]) # generate a connection\n",
    "                        if(key == 5):\n",
    "                            neumann[i+1,j] = 1\n",
    "                        if(key == 6):\n",
    "                            neumann[i+1,j] = 1\n",
    "                            neumann[i+1,j+1] = 1\n",
    "                            neumann_conn.append([\n",
    "                                (i+1)*(w_img+1)+j,(i+1)*(w_img+1)+j+1\n",
    "                            ]) # generate a connection\n",
    "                        if(key == 7):\n",
    "                            neumann[i+1,j+1] = 1\n",
    "\n",
    "    return neumann, reorder_connection(neumann_conn)"
   ]
  },
  {
   "cell_type": "markdown",
   "metadata": {},
   "source": [
    "### Redefine the problem"
   ]
  },
  {
   "cell_type": "code",
   "execution_count": 10,
   "metadata": {},
   "outputs": [
    {
     "data": {
      "text/plain": [
       "\"\\nn = 2**3\\nimarray = np.ones((n, n))\\n\\n# redefine the neumann boundary \\nimg_node = np.pad(imarray, ((0,1), (0,1)), 'edge')\\nnode_list = np.arange(img_node.shape[0]*img_node.shape[1])\\nneumann_bc = np.zeros_like(img_node, dtype=bool) \\nneumann_bc[:,0]= True\\nneumann_node = node_list[neumann_bc.reshape(-1).tolist()]\\nneumann_conn = np.stack((neumann_node[:-1],neumann_node[1:]), axis=-1)\\n\""
      ]
     },
     "execution_count": 10,
     "metadata": {},
     "output_type": "execute_result"
    }
   ],
   "source": [
    "'''\n",
    "n = 2**3\n",
    "imarray = np.ones((n, n))\n",
    "\n",
    "# redefine the neumann boundary \n",
    "img_node = np.pad(imarray, ((0,1), (0,1)), 'edge')\n",
    "node_list = np.arange(img_node.shape[0]*img_node.shape[1])\n",
    "neumann_bc = np.zeros_like(img_node, dtype=bool) \n",
    "neumann_bc[:,0]= True\n",
    "neumann_node = node_list[neumann_bc.reshape(-1).tolist()]\n",
    "neumann_conn = np.stack((neumann_node[:-1],neumann_node[1:]), axis=-1)\n",
    "'''"
   ]
  },
  {
   "cell_type": "code",
   "execution_count": 11,
   "metadata": {},
   "outputs": [],
   "source": [
    "class MeshSquareFEM():\n",
    "    \"\"\" \n",
    "    Handle a simple square mesh with quad elements\n",
    "    Given input of image, boundary nodes, and connections\n",
    "    \"\"\"\n",
    "\n",
    "    def __init__(self, hsize, img, dirich_bc, neumann_bc, neumann_conn, outfile = None):\n",
    "        self.hsize = hsize\n",
    "        self.img_h, self.img_w = img.shape\n",
    "        self.dirich_bc = dirich_bc # 2D map, Dirichlet bc nodes are 1\n",
    "        self.neumann_bc = neumann_bc\n",
    "        self.neumann_conn = neumann_conn\n",
    "        self.points, self.cells = self.generate_mesh(img)\n",
    "        self.generate_node_index()\n",
    "        \n",
    "        if outfile is not None:\n",
    "            self.save_mesh(outfile)\n",
    "\n",
    "    def generate_mesh(self, img):\n",
    "        x = np.linspace(0,self.hsize * self.img_w,self.img_w+1, dtype=np.float32)\n",
    "        y = np.linspace(0,self.hsize * self.img_h,self.img_h+1, dtype=np.float32)\n",
    "        ms_x, ms_y = np.meshgrid(x,y)\n",
    "        x = np.ravel(ms_x).reshape(-1,1)\n",
    "        y = np.ravel(ms_y).reshape(-1,1)\n",
    "        z = np.zeros_like(x, dtype=np.float32)\n",
    "        points = np.concatenate((x,y,z),axis=1)\n",
    "        n_element = self.img_h * self.img_w\n",
    "        nodes = np.linspace(0,points.shape[0],points.shape[0],endpoint=False,dtype=int).reshape(self.img_h+1,self.img_w+1)\n",
    "        cells = np.zeros((n_element,4),dtype=int)\n",
    "        cells[:,0] = np.ravel(nodes[:self.img_w,:self.img_h])\n",
    "        cells[:,1] = np.ravel(nodes[:self.img_w,1:])\n",
    "        cells[:,2] = np.ravel(nodes[1:,1:])\n",
    "        cells[:,3] = np.ravel(nodes[1:,:self.img_h])\n",
    "        has_element = img > 0.5 # elements that occupied by materials\n",
    "        cells = cells[has_element.reshape(-1)]\n",
    "        self.mesh = meshio.Mesh(points, [(\"quad\",cells)]) # generate a mesh used for output\n",
    "        return points, cells\n",
    "    \n",
    "    def generate_node_index(self):\n",
    "        self.node_list = np.arange((self.img_h+1)*(self.img_w+1))\n",
    "        self.valid_node = np.unique(self.cells.reshape(-1))\n",
    "        self.nonvalid_node = np.setdiff1d(self.node_list,self.valid_node)\n",
    "\n",
    "        self.dirich_node = self.node_list[self.dirich_bc.reshape(-1)]\n",
    "        self.dirich_plus_nonvalid_node = np.concatenate((self.dirich_node,self.nonvalid_node))\n",
    "        self.ndirich_valid_node = np.setdiff1d(self.valid_node,self.dirich_node)\n",
    "\n",
    "    def shapefunc(self, p):\n",
    "        # shape function\n",
    "        N = 0.25*np.array([[(1-p[0])*(1-p[1])],\n",
    "                           [(1+p[0])*(1-p[1])],\n",
    "                           [(1+p[0])*(1+p[1])],\n",
    "                           [(1-p[0])*(1+p[1])]])\n",
    "\n",
    "        dNdp = 0.25*np.array([[-(1-p[1]), -(1-p[0])],\n",
    "                              [(1-p[1]), -(1+p[0])],\n",
    "                              [(1+p[1]), (1+p[0])],\n",
    "                              [-(1+p[1]), (1-p[0])]])\n",
    "        return N, dNdp\n",
    "\n",
    "    def save_mesh(self,outfile = 'mesh_square.vtk'):\n",
    "        self.mesh.write(outfile)"
   ]
  },
  {
   "cell_type": "code",
   "execution_count": 12,
   "metadata": {},
   "outputs": [],
   "source": [
    "class GridFEM():\n",
    "    '''\n",
    "    Note: input the mesh grid, material, bc and f values, generate a finite element problem\n",
    "    '''\n",
    "    def __init__(self, grid, material, dirich_val, neumann_val, f_val):\n",
    "        self.grid = grid\n",
    "        self.mat_map = material\n",
    "        self.res_arr = []\n",
    "        self.qpts = np.array([[-1, 1, 1, -1], [-1, -1, 1, 1]])/np.sqrt(3) #[2x4], integration points\n",
    "        self.n_nodes = grid.points.shape[0]\n",
    "        self.d = np.zeros(self.n_nodes, dtype=np.float32)\n",
    "        self.residual = np.zeros_like(self.d)\n",
    "        self.ku = np.zeros_like(self.d)\n",
    "\n",
    "        # generate a finite element problem\n",
    "        self.DirichBC(dirich_val)\n",
    "        self.UpdateSource(f_val)\n",
    "        self.NeumannBC(neumann_val)\n",
    "        self.A, self.A_F, self.A_EF = self.CreateA()\n",
    "\n",
    "        \n",
    "    def CreateA(self):\n",
    "        '''\n",
    "        Stiffness matrix, return A_F and A_EF\n",
    "        Subscript E means essential boundary nodes, F means all remaining valid nodes\n",
    "        ''' \n",
    "        A = np.zeros((self.n_nodes,self.n_nodes))\n",
    "        for i, c in enumerate(self.grid.cells):\n",
    "            xe = self.grid.points[c,:].T[:2,:] #[2x4]\n",
    "            D = self.mat_map[i]*np.eye(2)\n",
    "            Ke = np.zeros((4,4))\n",
    "            for q in self.qpts.T:\n",
    "                [_,dNdp] = self.grid.shapefunc(q)\n",
    "                J = np.dot(xe, dNdp) #[2x2]\n",
    "                dNdx = np.dot(dNdp, np.linalg.inv(J)) #[4x2]\n",
    "                B = np.zeros((2,4))\n",
    "                B[0,:] = dNdx[:,0]\n",
    "                B[1,:] = dNdx[:,1]\n",
    "                Ke += np.linalg.det(J)*np.dot(B.T,np.dot(D,B))\n",
    "            A[np.ix_(c,c)] += Ke\n",
    "            \n",
    "        return A, A[np.ix_(self.grid.ndirich_valid_node,self.grid.ndirich_valid_node)], A[np.ix_(self.grid.dirich_plus_nonvalid_node,self.grid.ndirich_valid_node)]\n",
    "\n",
    "    def UpdateSource(self, f_val = None):\n",
    "        '''\n",
    "        Return the rhs internal sourcing term with modification from finite element term\n",
    "        '''\n",
    "        self.f = np.zeros_like(f_val, dtype=np.float32)\n",
    "        for c in self.grid.cells:\n",
    "            xe = self.grid.points[c,:].T[:2,:] #[2x4]\n",
    "            fe = np.zeros(4)\n",
    "            for q in self.qpts.T:\n",
    "                [N,dNdp] = self.grid.shapefunc(q)\n",
    "                J = np.dot(xe, dNdp) #[2x2]\n",
    "                temp = np.linalg.det(J)*np.dot(N,np.dot(N.T,f_val[c])) #[4x1]\n",
    "                fe += temp\n",
    "            self.f[c] += fe\n",
    "    \n",
    "    def NeumannBC(self, bc_val):\n",
    "        for c in self.grid.neumann_conn:\n",
    "            xe = self.grid.points[c,:][:,:2] #[2x2]\n",
    "            le = np.linalg.norm(xe[1,:]-xe[0,:])\n",
    "            for q in [1./np.sqrt(3), -1./np.sqrt(3)]:\n",
    "                N = 0.5*np.array([1-q, 1+q])\n",
    "                self.f[c] += np.dot(N,np.dot(N.T,bc_val[c]))*le/2 #[2x1]\n",
    "\n",
    "    def DirichBC(self, bc_val):\n",
    "        self.d[self.grid.nonvalid_node] = 0.0 # response should be zero at nonvalid nodes\n",
    "        self.d[self.grid.dirich_node] = bc_val[self.grid.dirich_node]\n",
    "\n",
    "    def GaussianRF(self, n, a_interval):\n",
    "        '''\n",
    "        Only works for a square mesh\n",
    "        '''\n",
    "        alpha = random.uniform(2,5)\n",
    "        a0, a1 = a_interval[0],a_interval[1]\n",
    "        field = gr.gaussian_random_field(alpha=alpha, size=n, flag_normalize=False)\n",
    "        f_min, f_max = np.min(field), np.max(field)\n",
    "        rf = (a1-a0)*(field-f_min)/(f_max-f_min)+a0\n",
    "        return rf\n",
    "\n",
    "    def Solve(self):\n",
    "        '''\n",
    "        Solve the linear equation system\n",
    "        '''\n",
    "        b_F = self.f[self.grid.ndirich_valid_node] - np.dot(self.A_EF.T, self.d[self.grid.dirich_plus_nonvalid_node])\n",
    "        d_F = np.linalg.solve(self.A_F, b_F)\n",
    "        res_F, ku_F = np.zeros_like(d_F), np.zeros_like(d_F)\n",
    "        # d_F, res_F, ku_F = self.Jacobi(self.A_F, b_F, np.ones_like(b_F))\n",
    "        self.d[self.grid.ndirich_valid_node] = d_F\n",
    "        self.residual[self.grid.ndirich_valid_node] = res_F\n",
    "        self.ku[self.grid.ndirich_valid_node] = ku_F\n",
    "\n",
    "    def Jacobi(self, A, b, u0):\n",
    "        Dinv = np.diag(1./np.diag(A))\n",
    "        N = 0\n",
    "        u = u0\n",
    "        omega = 2./3.\n",
    "        res = 1\n",
    "        uprev = u\n",
    "        ku = np.dot(A, uprev)\n",
    "        residual = b - np.dot(A, uprev)\n",
    "        res = np.linalg.norm(residual)\n",
    "        while(res > 1e-6):\n",
    "            u = omega*np.dot(Dinv, residual) + uprev\n",
    "            ku = np.dot(A, u)\n",
    "            residual = b - np.dot(A, u)\n",
    "            res = np.linalg.norm(residual)\n",
    "            self.res_arr.append(res)\n",
    "            uprev = u\n",
    "            print(N, res)\n",
    "            N += 1\n",
    "\n",
    "        return u, residual, ku\n",
    "    \n",
    "    def PlotField(self, field = None):\n",
    "        '''Default is to plot the solution field'''\n",
    "        if(field is None):\n",
    "            field = self.d\n",
    "        \n",
    "        field2d = field.reshape((self.grid.img_h+1, self.grid.img_w+1))\n",
    "        im = plt.imshow(field2d, origin='lower')\n",
    "        \n",
    "        plt.axis('off')\n",
    "        plt.colorbar(im)\n",
    "        plt.show()"
   ]
  },
  {
   "cell_type": "code",
   "execution_count": 13,
   "metadata": {},
   "outputs": [],
   "source": [
    "def loading_type1(dirich_bc, neumann_bc):\n",
    "    '''\n",
    "    Input: \n",
    "        Binary input which indicates the boundary nodes (2D array)\n",
    "\n",
    "    Output the value of the boundary loadings:\n",
    "        dirich_val: a list with the size of expanding dirich bc, fixed temperature values\n",
    "        neumann_val: a list with the size of expanding neumann bc, normal heat flux at the boundary nodes\n",
    "    '''\n",
    "    # dirichlet values, set top temperature to be 5, bottom to be 1\n",
    "    dirich_val = np.zeros_like(dirich_bc, dtype=np.float32)\n",
    "    dirich_val[-1, :] = 0 # top, bottom, left, right\n",
    "    dirich_val[0, :] = 2\n",
    "    #dirich_value[:, 0] = 0\n",
    "    dirich_val[:, -1] = 1\n",
    "    dirich_val = dirich_val*dirich_bc\n",
    "\n",
    "    # define Neumann boundary, set left flux to be 2\n",
    "    neumann_val = 2*neumann_bc\n",
    "\n",
    "    # define source\n",
    "    f_val = np.zeros_like(dirich_val, dtype=np.float32)\n",
    "\n",
    "    return dirich_val.reshape(-1), neumann_val.reshape(-1), f_val.reshape(-1)"
   ]
  },
  {
   "cell_type": "code",
   "execution_count": 14,
   "metadata": {},
   "outputs": [],
   "source": [
    "def loading_type2(dirich_bc, neumann_bc):\n",
    "    '''\n",
    "    Input: \n",
    "        Binary input which indicates the boundary nodes (2D array)\n",
    "\n",
    "    Output the value of the boundary loadings:\n",
    "        dirich_val: a list with the size of expanding dirich bc, fixed temperature values\n",
    "        neumann_val: a list with the size of expanding neumann bc, normal heat flux at the boundary nodes\n",
    "    '''\n",
    "    # dirichlet values, set top temperature to be 5, bottom to be 1\n",
    "    dirich_val = 2*dirich_bc\n",
    "\n",
    "    dirich_val[-1, :] = 0 # top, bottom, left, right\n",
    "    dirich_val[0, :] = 0\n",
    "    #dirich_value[:, 0] = 0\n",
    "    dirich_val[:, -1] = 1\n",
    "\n",
    "    # define Neumann boundary, set left flux to be 2\n",
    "    neumann_val = 0.0*neumann_bc\n",
    "\n",
    "    # define source\n",
    "    f_val = np.zeros_like(dirich_val, dtype=np.float32)\n",
    "\n",
    "    return dirich_val.reshape(-1), neumann_val.reshape(-1), f_val.reshape(-1)"
   ]
  },
  {
   "cell_type": "code",
   "execution_count": 15,
   "metadata": {},
   "outputs": [
    {
     "data": {
      "text/plain": [
       "'\\n# redefine boundaries\\ndirich_bc = np.logical_or(dirich_bc,neumann_bc)\\nneumann_bc = np.zeros_like(neumann_bc)\\ndirich_val, neumann_val, f_val = loading_type2(dirich_bc, neumann_bc)'"
      ]
     },
     "execution_count": 15,
     "metadata": {},
     "output_type": "execute_result"
    }
   ],
   "source": [
    "# problem setting\n",
    "n, _ = imarray.shape\n",
    "hsize = 0.0061*times # mm\n",
    "material = 1*np.ones_like(imarray).reshape(-1)\n",
    "dirich_bc = define_dirich_bc(imarray)\n",
    "neumann_bc, neumann_conn = define_neumann_bc(imarray)\n",
    "dirich_val, neumann_val, f_val = loading_type1(dirich_bc, neumann_bc)\n",
    "\n",
    "'''\n",
    "# redefine boundaries\n",
    "dirich_bc = np.logical_or(dirich_bc,neumann_bc)\n",
    "neumann_bc = np.zeros_like(neumann_bc)\n",
    "dirich_val, neumann_val, f_val = loading_type2(dirich_bc, neumann_bc)'''"
   ]
  },
  {
   "cell_type": "code",
   "execution_count": 16,
   "metadata": {},
   "outputs": [
    {
     "data": {
      "text/plain": [
       "[[7, 72],\n",
       " [72, 71],\n",
       " [71, 136],\n",
       " [136, 137],\n",
       " [137, 202],\n",
       " [202, 267],\n",
       " [267, 332],\n",
       " [332, 397],\n",
       " [397, 462],\n",
       " [462, 463],\n",
       " [463, 528],\n",
       " [528, 527],\n",
       " [527, 526],\n",
       " [526, 591],\n",
       " [591, 592],\n",
       " [592, 593],\n",
       " [593, 658],\n",
       " [658, 657],\n",
       " [657, 722],\n",
       " [722, 787],\n",
       " [787, 852],\n",
       " [852, 917],\n",
       " [917, 982],\n",
       " [982, 1047],\n",
       " [1047, 1112],\n",
       " [1112, 1111],\n",
       " [1111, 1176],\n",
       " [1176, 1175],\n",
       " [1175, 1240],\n",
       " [1240, 1305],\n",
       " [1305, 1370],\n",
       " [1370, 1435],\n",
       " [1435, 1436],\n",
       " [1436, 1501],\n",
       " [1501, 1566],\n",
       " [1566, 1567],\n",
       " [1567, 1632],\n",
       " [1632, 1631],\n",
       " [1631, 1696],\n",
       " [1696, 1695],\n",
       " [1695, 1760],\n",
       " [1760, 1761],\n",
       " [1761, 1826],\n",
       " [1826, 1827],\n",
       " [1827, 1892],\n",
       " [1892, 1893],\n",
       " [1893, 1958],\n",
       " [1958, 1957],\n",
       " [1957, 1956],\n",
       " [1956, 2021],\n",
       " [2021, 2086],\n",
       " [2086, 2085],\n",
       " [2085, 2150],\n",
       " [2150, 2151],\n",
       " [2151, 2216],\n",
       " [2216, 2217],\n",
       " [2217, 2282],\n",
       " [2282, 2281],\n",
       " [2281, 2346],\n",
       " [2346, 2347],\n",
       " [2347, 2412],\n",
       " [2412, 2477],\n",
       " [2477, 2542],\n",
       " [2542, 2607],\n",
       " [2607, 2672],\n",
       " [2672, 2737],\n",
       " [2737, 2736],\n",
       " [2736, 2801],\n",
       " [2801, 2866],\n",
       " [2866, 2865],\n",
       " [2865, 2930],\n",
       " [2930, 2931],\n",
       " [2931, 2996],\n",
       " [2996, 3061],\n",
       " [3061, 3126],\n",
       " [3126, 3191],\n",
       " [3191, 3256],\n",
       " [3256, 3321],\n",
       " [3321, 3386],\n",
       " [3386, 3451],\n",
       " [3451, 3452],\n",
       " [3452, 3517],\n",
       " [3517, 3582],\n",
       " [3582, 3647],\n",
       " [3647, 3646],\n",
       " [3646, 3711],\n",
       " [3711, 3712],\n",
       " [3712, 3777],\n",
       " [3777, 3776],\n",
       " [3776, 3841],\n",
       " [3841, 3906],\n",
       " [3906, 3907],\n",
       " [3907, 3972],\n",
       " [3972, 3971],\n",
       " [3971, 3970],\n",
       " [3970, 4035],\n",
       " [4035, 4036],\n",
       " [4036, 4037],\n",
       " [4037, 4102],\n",
       " [4102, 4167]]"
      ]
     },
     "execution_count": 16,
     "metadata": {},
     "output_type": "execute_result"
    }
   ],
   "source": [
    "neumann_conn"
   ]
  },
  {
   "cell_type": "code",
   "execution_count": 17,
   "metadata": {},
   "outputs": [],
   "source": [
    "# generate a mesh grid\n",
    "grid = MeshSquareFEM(hsize, imarray, dirich_bc, neumann_bc, neumann_conn, outfile = None)"
   ]
  },
  {
   "cell_type": "code",
   "execution_count": 18,
   "metadata": {},
   "outputs": [
    {
     "data": {
      "text/plain": [
       "\"\\nvalidpt = grid.cells[:,0]\\npt = grid.points[grid.dirich_node]\\nplt.scatter(pt[:,0],pt[:,1])\\nplt.xlim([0,1.57])\\nplt.ylim([0,1.57])\\nplt.axis('scaled')\""
      ]
     },
     "execution_count": 18,
     "metadata": {},
     "output_type": "execute_result"
    }
   ],
   "source": [
    "'''\n",
    "validpt = grid.cells[:,0]\n",
    "pt = grid.points[grid.dirich_node]\n",
    "plt.scatter(pt[:,0],pt[:,1])\n",
    "plt.xlim([0,1.57])\n",
    "plt.ylim([0,1.57])\n",
    "plt.axis('scaled')'''"
   ]
  },
  {
   "cell_type": "code",
   "execution_count": 19,
   "metadata": {},
   "outputs": [],
   "source": [
    "# generate FEM problem\n",
    "problem = GridFEM(grid, material, dirich_val, neumann_val, f_val)"
   ]
  },
  {
   "cell_type": "code",
   "execution_count": 20,
   "metadata": {},
   "outputs": [
    {
     "data": {
      "text/plain": [
       "\"A_diag = np.diag(problem.A)\\nzero_diag = np.where(A_diag == 0)[0]\\npt = problem.grid.points[grid.valid_node]\\nplt.scatter(pt[:,0],pt[:,1])\\nplt.xlim([0,1.57])\\nplt.ylim([0,1.57])\\nplt.axis('scaled')\""
      ]
     },
     "execution_count": 20,
     "metadata": {},
     "output_type": "execute_result"
    }
   ],
   "source": [
    "'''A_diag = np.diag(problem.A)\n",
    "zero_diag = np.where(A_diag == 0)[0]\n",
    "pt = problem.grid.points[grid.valid_node]\n",
    "plt.scatter(pt[:,0],pt[:,1])\n",
    "plt.xlim([0,1.57])\n",
    "plt.ylim([0,1.57])\n",
    "plt.axis('scaled')'''"
   ]
  },
  {
   "cell_type": "code",
   "execution_count": 21,
   "metadata": {},
   "outputs": [
    {
     "data": {
      "text/plain": [
       "<matplotlib.image.AxesImage at 0x122241910>"
      ]
     },
     "execution_count": 21,
     "metadata": {},
     "output_type": "execute_result"
    },
    {
     "data": {
      "image/png": "[encoded data removed]",
      "text/plain": [
       "<Figure size 640x480 with 1 Axes>"
      ]
     },
     "metadata": {},
     "output_type": "display_data"
    }
   ],
   "source": [
    "dirich_bc_idx = np.zeros(((n+1)*(n+1),))\n",
    "dirich_bc_idx[grid.ndirich_valid_node] = 1\n",
    "plt.imshow(dirich_bc_idx.reshape(n+1,n+1))"
   ]
  },
  {
   "cell_type": "code",
   "execution_count": 22,
   "metadata": {},
   "outputs": [
    {
     "data": {
      "image/png": "[encoded data removed]",
      "text/plain": [
       "<Figure size 640x480 with 2 Axes>"
      ]
     },
     "metadata": {},
     "output_type": "display_data"
    }
   ],
   "source": [
    "problem.Solve()\n",
    "problem.PlotField()"
   ]
  },
  {
   "cell_type": "code",
   "execution_count": 23,
   "metadata": {},
   "outputs": [
    {
     "data": {
      "text/plain": [
       "0.0"
      ]
     },
     "execution_count": 23,
     "metadata": {},
     "output_type": "execute_result"
    }
   ],
   "source": [
    "problem.residual.min()"
   ]
  },
  {
   "cell_type": "code",
   "execution_count": 24,
   "metadata": {},
   "outputs": [
    {
     "data": {
      "text/plain": [
       "array([0., 0., 0., ..., 0., 0., 0.], dtype=float32)"
      ]
     },
     "execution_count": 24,
     "metadata": {},
     "output_type": "execute_result"
    }
   ],
   "source": [
    "problem.residual"
   ]
  },
  {
   "cell_type": "code",
   "execution_count": 25,
   "metadata": {},
   "outputs": [
    {
     "data": {
      "image/png": "[encoded data removed]",
      "text/plain": [
       "<Figure size 640x480 with 2 Axes>"
      ]
     },
     "metadata": {},
     "output_type": "display_data"
    }
   ],
   "source": [
    "problem.PlotField(problem.residual)"
   ]
  },
  {
   "cell_type": "code",
   "execution_count": 26,
   "metadata": {},
   "outputs": [
    {
     "data": {
      "text/plain": [
       "100"
      ]
     },
     "execution_count": 26,
     "metadata": {},
     "output_type": "execute_result"
    }
   ],
   "source": [
    "len(neumann_conn)"
   ]
  },
  {
   "cell_type": "code",
   "execution_count": 27,
   "metadata": {},
   "outputs": [
    {
     "data": {
      "text/plain": [
       "array([[   7,   72],\n",
       "       [  72,   71],\n",
       "       [  71,  136],\n",
       "       [ 136,  137],\n",
       "       [ 137,  202],\n",
       "       [ 202,  267],\n",
       "       [ 267,  332],\n",
       "       [ 332,  397],\n",
       "       [ 397,  462],\n",
       "       [ 462,  463],\n",
       "       [ 463,  528],\n",
       "       [ 528,  527],\n",
       "       [ 527,  526],\n",
       "       [ 526,  591],\n",
       "       [ 591,  592],\n",
       "       [ 592,  593],\n",
       "       [ 593,  658],\n",
       "       [ 658,  657],\n",
       "       [ 657,  722],\n",
       "       [ 722,  787],\n",
       "       [ 787,  852],\n",
       "       [ 852,  917],\n",
       "       [ 917,  982],\n",
       "       [ 982, 1047],\n",
       "       [1047, 1112],\n",
       "       [1112, 1111],\n",
       "       [1111, 1176],\n",
       "       [1176, 1175],\n",
       "       [1175, 1240],\n",
       "       [1240, 1305],\n",
       "       [1305, 1370],\n",
       "       [1370, 1435],\n",
       "       [1435, 1436],\n",
       "       [1436, 1501],\n",
       "       [1501, 1566],\n",
       "       [1566, 1567],\n",
       "       [1567, 1632],\n",
       "       [1632, 1631],\n",
       "       [1631, 1696],\n",
       "       [1696, 1695],\n",
       "       [1695, 1760],\n",
       "       [1760, 1761],\n",
       "       [1761, 1826],\n",
       "       [1826, 1827],\n",
       "       [1827, 1892],\n",
       "       [1892, 1893],\n",
       "       [1893, 1958],\n",
       "       [1958, 1957],\n",
       "       [1957, 1956],\n",
       "       [1956, 2021],\n",
       "       [2021, 2086],\n",
       "       [2086, 2085],\n",
       "       [2085, 2150],\n",
       "       [2150, 2151],\n",
       "       [2151, 2216],\n",
       "       [2216, 2217],\n",
       "       [2217, 2282],\n",
       "       [2282, 2281],\n",
       "       [2281, 2346],\n",
       "       [2346, 2347],\n",
       "       [2347, 2412],\n",
       "       [2412, 2477],\n",
       "       [2477, 2542],\n",
       "       [2542, 2607],\n",
       "       [2607, 2672],\n",
       "       [2672, 2737],\n",
       "       [2737, 2736],\n",
       "       [2736, 2801],\n",
       "       [2801, 2866],\n",
       "       [2866, 2865],\n",
       "       [2865, 2930],\n",
       "       [2930, 2931],\n",
       "       [2931, 2996],\n",
       "       [2996, 3061],\n",
       "       [3061, 3126],\n",
       "       [3126, 3191],\n",
       "       [3191, 3256],\n",
       "       [3256, 3321],\n",
       "       [3321, 3386],\n",
       "       [3386, 3451],\n",
       "       [3451, 3452],\n",
       "       [3452, 3517],\n",
       "       [3517, 3582],\n",
       "       [3582, 3647],\n",
       "       [3647, 3646],\n",
       "       [3646, 3711],\n",
       "       [3711, 3712],\n",
       "       [3712, 3777],\n",
       "       [3777, 3776],\n",
       "       [3776, 3841],\n",
       "       [3841, 3906],\n",
       "       [3906, 3907],\n",
       "       [3907, 3972],\n",
       "       [3972, 3971],\n",
       "       [3971, 3970],\n",
       "       [3970, 4035],\n",
       "       [4035, 4036],\n",
       "       [4036, 4037],\n",
       "       [4037, 4102],\n",
       "       [4102, 4167]])"
      ]
     },
     "execution_count": 27,
     "metadata": {},
     "output_type": "execute_result"
    }
   ],
   "source": [
    "np.array(neumann_conn, dtype=np.int64)"
   ]
  },
  {
   "cell_type": "code",
   "execution_count": 28,
   "metadata": {},
   "outputs": [
    {
     "name": "stdout",
     "output_type": "stream",
     "text": [
      "Problem #-0 solved\n"
     ]
    }
   ],
   "source": [
    "# Create dataset\n",
    "n_data = 1\n",
    "datafile = \"thermal_Ti64.h5\"\n",
    "\n",
    "dataset = {}\n",
    "dirich_idx_data = np.zeros((n_data, n+1, n+1, 1))\n",
    "dirich_value_data = np.zeros((n_data, n+1, n+1, 1))\n",
    "neumann_idx_data = np.zeros((n_data, n+1, n+1, 1))\n",
    "neumann_value_data = np.zeros((n_data, n+1, n+1, 1))\n",
    "neumann_conn_data = np.zeros((n_data, len(neumann_conn), 2, 1))\n",
    "mask_data = np.zeros((n_data, n+1, n+1, 1))\n",
    "material_data = np.zeros((n_data, n, n, 1))\n",
    "f_data = np.zeros((n_data, n+1, n+1))\n",
    "u_data = np.zeros((n_data, n+1, n+1))\n",
    "for i in range(n_data):\n",
    "    dirich_val, neumann_val, f_val = loading_type1(dirich_bc, neumann_bc)\n",
    "    material = np.ones((n,n,1))\n",
    "    problem = GridFEM(grid, material.reshape(-1), dirich_val, neumann_val, f_val)\n",
    "    problem.Solve()\n",
    "    material_data[i] = material\n",
    "    dirich_idx_data[i,:,:,0] = dirich_bc_idx.reshape((n+1, n+1))\n",
    "    dirich_value_data[i,:,:,0] = dirich_val.reshape((n+1, n+1))\n",
    "    neumann_idx_data[i,:,:,0] = neumann_bc\n",
    "    neumann_value_data[i,:,:,0] = neumann_val.reshape((n+1, n+1))\n",
    "    neumann_conn_data[i,:,:,0] = np.array(neumann_conn, dtype=np.int64)\n",
    "    f_data[i,:,:] = f_val.reshape((n+1, n+1))\n",
    "    u_data[i,:,:] = problem.d.reshape((n+1, n+1))\n",
    "    print(\"Problem #-\"+str(i)+\" solved\")\n",
    "\n",
    "    # create mask images\n",
    "    temp = np.zeros(((n+1)*(n+1),))\n",
    "    temp[grid.valid_node] = 1\n",
    "    mask_data[i,:,:,0] = temp.reshape((n+1,n+1))"
   ]
  },
  {
   "cell_type": "code",
   "execution_count": 29,
   "metadata": {},
   "outputs": [],
   "source": [
    "dataset['mask'] = mask_data\n",
    "dataset['dirich_idx'] = dirich_idx_data\n",
    "dataset['dirich_value'] = dirich_value_data\n",
    "dataset['neumann_idx'] = neumann_idx_data\n",
    "dataset['neumann_value'] = neumann_value_data\n",
    "dataset['neumann_conn'] = neumann_conn_data\n",
    "dataset['material'] = material_data\n",
    "dataset['source'] = f_data\n",
    "dataset['solution'] = u_data\n",
    "\n",
    "with h5py.File(datafile, \"w\") as hf:\n",
    "    for key, item in dataset.items():\n",
    "        hf[key] = item"
   ]
  }
 ],
 "metadata": {
  "kernelspec": {
   "display_name": "Python 3.8.13 ('pytorch11')",
   "language": "python",
   "name": "python3"
  },
  "language_info": {
   "codemirror_mode": {
    "name": "ipython",
    "version": 3
   },
   "file_extension": ".py",
   "mimetype": "text/x-python",
   "name": "python",
   "nbconvert_exporter": "python",
   "pygments_lexer": "ipython3",
   "version": "3.11.4"
  },
  "orig_nbformat": 4,
  "vscode": {
   "interpreter": {
    "hash": "926ad5c238a4420011e83b59655d6cd21b021d9ee1aa0438d38aa969cfe55744"
   }
  }
 },
 "nbformat": 4,
 "nbformat_minor": 2
}
