{
 "cells": [
  {
   "cell_type": "markdown",
   "metadata": {},
   "source": [
    "Generate FEM solution for 2D plane stress problem\n",
    "\n",
    "* Fix the top boundary, apply random loading at bottom boundary\n",
    "* Output dirich_idx, dirich_value; traction_idx, traction_value; bodyforce; solution; materials (E, v)\n",
    "* The unit is GPa\n",
    "* Please note that the node numbering in FEM and CNN is reverse in y direction"
   ]
  },
  {
   "cell_type": "code",
   "execution_count": 1,
   "metadata": {},
   "outputs": [],
   "source": [
    "import meshio\n",
    "import numpy as np\n",
    "import matplotlib.pyplot as plt\n",
    "import gaussian_random_fields as gr\n",
    "import random\n",
    "import h5py"
   ]
  },
  {
   "cell_type": "code",
   "execution_count": 2,
   "metadata": {},
   "outputs": [],
   "source": [
    "class MeshSquareFEM():\n",
    "    \"\"\" Handle a simple square mesh with quad elements\n",
    "    0: background square\n",
    "    \n",
    "    Parameters:\n",
    "        size: length of the square plate\n",
    "        nnode_edge: number of nodes along edges of the plate\n",
    "    \"\"\"\n",
    "\n",
    "    def __init__(self, size, nnode_edge, outfile = None):\n",
    "        self.size = size\n",
    "        self.nnode_edge = nnode_edge\n",
    "        self.node_list = np.arange(nnode_edge*nnode_edge)\n",
    "        self.mesh = None\n",
    "        self.mesh = self.generate_mesh()\n",
    "        self.generate_node_index()\n",
    "        \n",
    "        if outfile is not None:\n",
    "            self.save_mesh(outfile)\n",
    "\n",
    "    def generate_mesh(self):\n",
    "        x = np.linspace(-self.size/2,self.size/2,self.nnode_edge, dtype=np.float32)\n",
    "        y = np.linspace(-self.size/2,self.size/2,self.nnode_edge, dtype=np.float32)\n",
    "        ms_x, ms_y = np.meshgrid(x,y)\n",
    "        x = np.ravel(ms_x).reshape(-1,1)\n",
    "        y = np.ravel(ms_y).reshape(-1,1)\n",
    "        z = np.zeros_like(x, dtype=np.float32)\n",
    "        points = np.concatenate((x,y,z),axis=1)\n",
    "        n_element = (self.nnode_edge-1)*(self.nnode_edge-1)\n",
    "        nodes = np.linspace(0,points.shape[0],points.shape[0],endpoint=False,dtype=int).reshape(self.nnode_edge,self.nnode_edge)\n",
    "        cells = np.zeros((n_element,4),dtype=int)\n",
    "        cells[:,0] = np.ravel(nodes[:self.nnode_edge-1,:self.nnode_edge-1])\n",
    "        cells[:,1] = np.ravel(nodes[:self.nnode_edge-1,1:])\n",
    "        cells[:,2] = np.ravel(nodes[1:,1:])\n",
    "        cells[:,3] = np.ravel(nodes[1:,:self.nnode_edge-1])\n",
    "        return meshio.Mesh(points, [(\"quad\",cells)])\n",
    "\n",
    "    def generate_node_index(self):\n",
    "        '''Generate node index matrix that indicate boundary (True) or internal nodes (False)'''\n",
    "        node_index = []\n",
    "        top = []\n",
    "        bottom = []\n",
    "        left = []\n",
    "        right = []\n",
    "        \n",
    "        for pt in self.mesh.points:\n",
    "            temp_bool = [False, False, False, False, False] # Top, Bottom, Left, Right, Boundary\n",
    "            if (np.isclose(pt[0],-self.size/2)):\n",
    "                temp_bool[2], temp_bool[4] = True, True\n",
    "            if (np.isclose(pt[0],self.size/2)):\n",
    "                temp_bool[3], temp_bool[4] = True, True\n",
    "            if (np.isclose(pt[1],self.size/2)):\n",
    "                temp_bool[0], temp_bool[4] = True, True\n",
    "            if (np.isclose(pt[1],-self.size/2)):\n",
    "                temp_bool[1], temp_bool[4] = True, True\n",
    "            \n",
    "            top.append(temp_bool[0])\n",
    "            bottom.append(temp_bool[1])\n",
    "            left.append(temp_bool[2])\n",
    "            right.append(temp_bool[3])\n",
    "            node_index.append(temp_bool[4])\n",
    "\n",
    "        self.node_top = self.node_list[top]\n",
    "        self.node_left = self.node_list[left]\n",
    "        self.node_right = self.node_list[right]\n",
    "        self.node_bottom = self.node_list[bottom]\n",
    "        self.node_essential = self.node_list[top] # apply essential boundary at the top boundary\n",
    "        self.node_internal = self.node_list[np.invert(top)]\n",
    "\n",
    "        self.dof_essential = np.zeros((2*self.node_essential.shape[0],), dtype=int) \n",
    "        self.dof_internal = np.zeros((2*self.node_internal.shape[0],), dtype=int) \n",
    "        self.dof_essential[0::2] = 2*self.node_essential\n",
    "        self.dof_essential[1::2] = 2*self.node_essential+1\n",
    "        self.dof_internal[0::2] = 2*self.node_internal\n",
    "        self.dof_internal[1::2] = 2*self.node_internal+1\n",
    "    \n",
    "    def shapefunc(self, p):\n",
    "        # shape function\n",
    "        N = 0.25*np.array([[(1-p[0])*(1-p[1])],\n",
    "                           [(1+p[0])*(1-p[1])],\n",
    "                           [(1+p[0])*(1+p[1])],\n",
    "                           [(1-p[0])*(1+p[1])]])\n",
    "\n",
    "        dNdp = 0.25*np.array([[-(1-p[1]), -(1-p[0])],\n",
    "                              [(1-p[1]), -(1+p[0])],\n",
    "                              [(1+p[1]), (1+p[0])],\n",
    "                              [-(1+p[1]), (1-p[0])]])\n",
    "        return N, dNdp\n",
    "\n",
    "    def save_mesh(self,outfile = 'mesh_square.vtk'):\n",
    "        self.mesh.write(outfile)"
   ]
  },
  {
   "cell_type": "code",
   "execution_count": 3,
   "metadata": {},
   "outputs": [],
   "source": [
    "class GridFEM():\n",
    "    '''\n",
    "    Note: the n should be the number of elements along edges, e.g., \n",
    "    there are (n-1)*(n-1) internal grid points \n",
    "    '''\n",
    "    def __init__(self, n_elem, size = 2):\n",
    "        self.size = size\n",
    "        self.n = n_elem\n",
    "        self.qpts = np.array([[-1, 1, 1, -1], [-1, -1, 1, 1]])/np.sqrt(3) #[2x4]\n",
    "        self.d = np.zeros(2*(n_elem+1)*(n_elem+1))\n",
    "        self.grid = MeshSquareFEM(size, nnode_edge=n_elem+1)\n",
    "        \n",
    "    def CreateA(self):\n",
    "        '''\n",
    "        Stiffness matrix, input material property, return A_F and A_EF \n",
    "        ''' \n",
    "        A = np.zeros((2*(self.n+1)*(self.n+1),2*(self.n+1)*(self.n+1)))\n",
    "        for i, c in enumerate(self.grid.mesh.cells_dict['quad']):\n",
    "            xe = self.grid.mesh.points[c,:].T[:2,:] #[2x4]\n",
    "            E = self.grid.mesh.cell_data['E'][i]\n",
    "            v = self.grid.mesh.cell_data['v'][i]\n",
    "            D = E/(1.-v*v)*np.array([[1., v, 0.], [v, 1., 0.], [0., 0., (1.-v)/2.]]) # plane stress\n",
    "            Ke = np.zeros((8,8))\n",
    "            for q in self.qpts.T:\n",
    "                [_,dNdp] = self.grid.shapefunc(q)\n",
    "                J = np.dot(xe, dNdp) #[2x2]\n",
    "                dNdx = np.dot(dNdp, np.linalg.inv(J)) #[4x2]\n",
    "                B = np.zeros((3,8))\n",
    "                B[0, 0::2] = dNdx[:,0]\n",
    "                B[1, 1::2] = dNdx[:,1]\n",
    "                B[2, 0::2] = dNdx[:,1]\n",
    "                B[2, 1::2] = dNdx[:,0]\n",
    "                Ke += np.linalg.det(J)*np.dot(B.T,np.dot(D,B))\n",
    "            \n",
    "            cc = np.zeros((8,), dtype=int)\n",
    "            cc[0::2] = 2*c\n",
    "            cc[1::2] = 2*c+1\n",
    "            A[np.ix_(cc,cc)] += Ke\n",
    "            \n",
    "        return A, A[np.ix_(self.grid.dof_internal,self.grid.dof_internal)], A[np.ix_(self.grid.dof_essential,self.grid.dof_internal)]\n",
    "\n",
    "    def UpdateBodyForce(self, f = None):\n",
    "        '''\n",
    "        Return the rhs internal sourcing term with modification from finite element term\n",
    "        '''\n",
    "        ff = np.zeros_like(f)\n",
    "        for c in self.grid.mesh.cells_dict['quad']:\n",
    "            xe = self.grid.mesh.points[c,:].T[:2,:] #[2x4]\n",
    "            for q in self.qpts.T:\n",
    "                [N,dNdp] = self.grid.shapefunc(q)\n",
    "                J = np.dot(xe, dNdp) #[2x2]\n",
    "                ff[2*c] += np.linalg.det(J)*np.dot(N,np.dot(N.T,f[2*c])) #[4x1]\n",
    "                ff[2*c+1] += np.linalg.det(J)*np.dot(N,np.dot(N.T,f[2*c+1])) #[4x1]\n",
    "        return ff\n",
    "    \n",
    "    def TractionBottomBC(self, f, bc_value):\n",
    "        '''\n",
    "        Bottom boundary node: 1,2,3,4,5,6,7 ... \n",
    "        bc_value has the same shape as f\n",
    "        '''\n",
    "        connection = np.stack((self.grid.node_bottom[:-1],self.grid.node_bottom[1:]), axis=-1)\n",
    "        for c in connection:\n",
    "            xe = self.grid.mesh.points[c,:][:,:2] #[2x2]\n",
    "            le = np.linalg.norm(xe[1,:]-xe[0,:])\n",
    "            for q in [1./np.sqrt(3), -1./np.sqrt(3)]:\n",
    "                N = 0.5*np.array([1-q, 1+q])\n",
    "                f[2*c] += np.dot(N,np.dot(N.T,bc_value[2*c]))*le/2 #[2x1]\n",
    "                f[2*c+1] += np.dot(N,np.dot(N.T,bc_value[2*c+1]))*le/2 #[2x1]\n",
    "        return f, f[self.grid.dof_internal]\n",
    "\n",
    "    def GaussianRF(self, n, a_interval):\n",
    "        alpha = random.uniform(2,5)\n",
    "        a0, a1 = a_interval[0],a_interval[1]\n",
    "        field = gr.gaussian_random_field(alpha=alpha, size=n, flag_normalize=False)\n",
    "        f_min, f_max = np.min(field), np.max(field)\n",
    "        rf = (a1-a0)*(field-f_min)/(f_max-f_min)+a0\n",
    "        return rf\n",
    "\n",
    "    def Solve(self, material, traction_value=None, f=None):\n",
    "        '''\n",
    "        Solve the linear equation system\n",
    "        material: shape is [n, n, 2]\n",
    "        f and traction_value shape are [2 x (n+1) x (n+1)]\n",
    "        '''\n",
    "        if(f is None):\n",
    "            f = np.zeros(2*(self.n+1)*(self.n+1))\n",
    "            f[0::2] = self.GaussianRF(self.n+1, [1,5]).reshape((self.n+1)*(self.n+1))\n",
    "            f[1::2] = self.GaussianRF(self.n+1, [1,5]).reshape((self.n+1)*(self.n+1))\n",
    "\n",
    "        # create cell data\n",
    "        self.grid.mesh.cell_data['E'] = material[:, :, 0].reshape(self.n*self.n)\n",
    "        self.grid.mesh.cell_data['v'] = material[:, :, 1].reshape(self.n*self.n)\n",
    "\n",
    "        self.f = self.UpdateBodyForce(f)\n",
    "        self.A, self.A_F, _ = self.CreateA()\n",
    "        self.b, self.b_F = self.TractionBottomBC(self.f, traction_value)\n",
    "        d_F = np.linalg.solve(self.A_F, self.b_F)\n",
    "        self.d[self.grid.dof_internal] = d_F\n",
    "\n",
    "    def PlotSolution(self, field = None):\n",
    "        '''Default is to plot the solution field'''\n",
    "        if(field is None):\n",
    "            field = self.d\n",
    "        \n",
    "        size = int(np.sqrt(field.shape[0]/2))\n",
    "        self.x_disp = field[0::2].reshape((size, size))\n",
    "        self.y_disp = field[1::2].reshape((size, size))\n",
    "\n",
    "        fig = plt.figure()\n",
    "\n",
    "        fig.add_subplot(1,2,1)\n",
    "        im1 = plt.imshow(self.x_disp, origin='lower')\n",
    "        plt.axis('off')\n",
    "        plt.title('X')\n",
    "        plt.colorbar(im1)\n",
    "\n",
    "        fig.add_subplot(1,2,2)\n",
    "        im2 = plt.imshow(self.y_disp, origin='lower')\n",
    "        plt.axis('off')\n",
    "        plt.title('Y')\n",
    "        plt.colorbar(im2)\n",
    "\n",
    "        plt.tight_layout()\n",
    "        plt.show()"
   ]
  },
  {
   "cell_type": "code",
   "execution_count": 4,
   "metadata": {},
   "outputs": [],
   "source": [
    "n_elem = 2**5\n",
    "prob = GridFEM(n_elem)\n",
    "\n",
    "E1, v1, E2, v2 = 69, 0.34, 20, 0.3\n",
    "material = np.zeros((n_elem, n_elem, 2)) \n",
    "# top right material-1\n",
    "# else material-2\n",
    "material[:, :, 0] = E2\n",
    "material[:, :, 1] = v2\n",
    "n_part = int(1.42/2*n_elem)\n",
    "material[-n_part:, -n_part:, 0] = E1\n",
    "material[-n_part:, -n_part:, 1] = v1\n",
    "\n",
    "bc_value = np.zeros((2*(n_elem+1)*(n_elem+1),))\n",
    "bc_value[2*prob.grid.node_bottom] = -2 # apply 2GPa stress \n",
    "\n",
    "# assign body force to material-2\n",
    "f = np.zeros(2*(n_elem+1)*(n_elem+1))\n",
    "#n_part = int(1.42/2*(n_elem+1))\n",
    "#body_force = 1e3*np.ones(shape=(n_elem+1,n_elem+1))\n",
    "#body_force[-n_part:, -n_part:] = 0.\n",
    "#f[0::2] = body_force.reshape((n_elem+1)*(n_elem+1))"
   ]
  },
  {
   "cell_type": "code",
   "execution_count": 5,
   "metadata": {},
   "outputs": [
    {
     "data": {
      "text/plain": [
       "<matplotlib.image.AxesImage at 0x7f269442acd0>"
      ]
     },
     "execution_count": 5,
     "metadata": {},
     "output_type": "execute_result"
    },
    {
     "data": {
      "image/png": "[encoded data removed]",
      "text/plain": [
       "<Figure size 432x288 with 1 Axes>"
      ]
     },
     "metadata": {
      "needs_background": "light"
     },
     "output_type": "display_data"
    }
   ],
   "source": [
    "plt.imshow(material[:,:,0].reshape(n_elem, n_elem), origin='lower')"
   ]
  },
  {
   "cell_type": "code",
   "execution_count": 6,
   "metadata": {},
   "outputs": [
    {
     "data": {
      "image/png": "[encoded data removed]",
      "text/plain": [
       "<Figure size 432x288 with 4 Axes>"
      ]
     },
     "metadata": {
      "needs_background": "light"
     },
     "output_type": "display_data"
    }
   ],
   "source": [
    "prob.Solve(material, bc_value, f)\n",
    "prob.PlotSolution()"
   ]
  },
  {
   "cell_type": "code",
   "execution_count": 7,
   "metadata": {},
   "outputs": [
    {
     "name": "stdout",
     "output_type": "stream",
     "text": [
      "Displacement range in x-axis is: -0.8435560715181898 0.0\n",
      "Displacement range in y-axis is: -0.3534099883382081 0.4859488751306582\n"
     ]
    }
   ],
   "source": [
    "print(\"Displacement range in x-axis is:\", np.min(prob.x_disp), np.max(prob.x_disp))\n",
    "print(\"Displacement range in y-axis is:\", np.min(prob.y_disp), np.max(prob.y_disp))"
   ]
  },
  {
   "cell_type": "code",
   "execution_count": 8,
   "metadata": {},
   "outputs": [],
   "source": [
    "def loading_type1(n):\n",
    "    '''Loading: fix top boundary at all dofs; apply random loading at bottom boundary'''\n",
    "    dirich_idx = np.ones((n, n, 2))\n",
    "    dirich_idx[-1, :, :] = 0.\n",
    "    dirich_value = np.zeros_like(dirich_idx)\n",
    "    dirich_value[-1, :, :] = 0.0\n",
    "\n",
    "    # define traction boundary, 1.0 traction boundary; 0 else\n",
    "    traction_idx = np.zeros((n, n, 2))\n",
    "    traction_idx[0,  :,  :] = 1. \n",
    "    traction_value = np.zeros_like(traction_idx)\n",
    "    #f = 20*np.random.rand((n,2))-10 # -10GPa ~ 10GPa\n",
    "    #traction_value[0,:,:] = f\n",
    "    #f = [1, -1] \n",
    "    f = 20*np.random.rand(2)-10 # -10GPa ~ 10GPa\n",
    "    traction_value[0,:,0] = f[0]\n",
    "    traction_value[0,:,1] = f[1]\n",
    "\n",
    "    return dirich_idx, dirich_value, traction_idx, traction_value"
   ]
  },
  {
   "cell_type": "code",
   "execution_count": 9,
   "metadata": {},
   "outputs": [],
   "source": [
    "def combine_vectors(v):\n",
    "    '''combine vectors v (n, n, 2) to (2xnxn)'''\n",
    "    _, n, _ = v.shape\n",
    "    u = np.zeros(shape=(2*n*n,))\n",
    "    u[0::2] = v[:, :, 0].reshape(n*n)\n",
    "    u[1::2] = v[:, :, 1].reshape(n*n)\n",
    "    return u"
   ]
  },
  {
   "cell_type": "code",
   "execution_count": 10,
   "metadata": {},
   "outputs": [],
   "source": [
    "def split_vectors(v):\n",
    "    '''split vectors v from (2xnxn) to (n, n, 2) '''\n",
    "    nn = v.shape[0]\n",
    "    n = int(np.sqrt(nn/2))\n",
    "    u = np.zeros(shape=(n, n, 2))\n",
    "    u[:,:,0] = v[0::2].reshape(n, n)\n",
    "    u[:,:,1] = v[1::2].reshape(n, n)\n",
    "    return u"
   ]
  },
  {
   "cell_type": "code",
   "execution_count": 11,
   "metadata": {},
   "outputs": [
    {
     "name": "stdout",
     "output_type": "stream",
     "text": [
      "Problem #-0 solved\n",
      "Problem #-1 solved\n",
      "Problem #-2 solved\n",
      "Problem #-3 solved\n",
      "Problem #-4 solved\n",
      "Problem #-5 solved\n",
      "Problem #-6 solved\n",
      "Problem #-7 solved\n",
      "Problem #-8 solved\n",
      "Problem #-9 solved\n",
      "Problem #-10 solved\n",
      "Problem #-11 solved\n",
      "Problem #-12 solved\n",
      "Problem #-13 solved\n",
      "Problem #-14 solved\n",
      "Problem #-15 solved\n",
      "Problem #-16 solved\n",
      "Problem #-17 solved\n",
      "Problem #-18 solved\n",
      "Problem #-19 solved\n"
     ]
    }
   ],
   "source": [
    "# Create dataset\n",
    "# dataset contains: dirich_idx~2xnxn, dirich_value~2xnxn, traction_idx~2xnxn, traction_value~2xnxn, material~2x(n-1)x(n-1), f~2xnxn, solution~2xnxn\n",
    "\n",
    "dataset = {}\n",
    "n_data = 20\n",
    "dirich_idx_data = np.zeros((n_data, n_elem+1, n_elem+1, 2))\n",
    "dirich_value_data = np.zeros((n_data, n_elem+1, n_elem+1, 2))\n",
    "traction_idx_data = np.zeros((n_data, n_elem+1, n_elem+1, 2))\n",
    "traction_value_data = np.zeros((n_data, n_elem+1, n_elem+1, 2))\n",
    "material_data = np.zeros((n_data, n_elem, n_elem, 2))\n",
    "f_data = np.zeros((n_data, n_elem+1, n_elem+1, 2))\n",
    "u_data = np.zeros((n_data, n_elem+1, n_elem+1, 2))\n",
    "for i in range(n_data):\n",
    "    # define boundary conditions\n",
    "    dirich_idx, dirich_value, traction_idx, traction_value = loading_type1(n_elem+1)\n",
    "    dirich_idx_data[i] = dirich_idx\n",
    "    dirich_value_data[i] = dirich_value\n",
    "    traction_idx_data[i] = traction_idx\n",
    "    traction_value_data[i] = traction_value\n",
    "    \n",
    "    # create material field, E~[1,5]GPa\n",
    "    #E_field, v_field = 6*np.ones((n_elem, n_elem)), 0.32*np.ones((n_elem, n_elem))\n",
    "    #E_field, v_field = prob.GaussianRF(n_elem, [1e6, 100e9]), 0.32*np.ones((n_elem, n_elem))\n",
    "    E_field, v_field = prob.GaussianRF(n_elem, [1, 5]), prob.GaussianRF(n_elem, [0.25, 0.45])\n",
    "    material = np.stack((E_field, v_field), axis=2)\n",
    "    material_data[i] = material \n",
    "\n",
    "    # define body force field\n",
    "    #f1, f2 = np.zeros((n_elem+1,n_elem+1)), np.zeros((n_elem+1,n_elem+1))\n",
    "    #f1, f2 = np.ones((n_elem+1,n_elem+1)), -np.ones((n_elem+1,n_elem+1))\n",
    "    f1, f2 = prob.GaussianRF(n_elem+1, [-5, 5]), prob.GaussianRF(n_elem+1, [-5, 5])\n",
    "    f_data[i] = np.stack((f1, f2), axis=2)\n",
    "    f = combine_vectors(f_data[i])\n",
    "\n",
    "    # solve the problem\n",
    "    prob.Solve(material, combine_vectors(traction_value), f)\n",
    "    u_data[i] = split_vectors(prob.d)\n",
    "    print(\"Problem #-\"+str(i)+\" solved\")"
   ]
  },
  {
   "cell_type": "code",
   "execution_count": 12,
   "metadata": {},
   "outputs": [],
   "source": [
    "dataset['dirich_idx'] = dirich_idx_data\n",
    "dataset['dirich_value'] = dirich_value_data\n",
    "dataset['traction_idx'] = traction_idx_data\n",
    "dataset['traction_value'] = traction_value_data\n",
    "dataset['material'] = material_data\n",
    "dataset['body_force'] = f_data\n",
    "dataset['solution'] = u_data\n",
    "\n",
    "with h5py.File(\"elasticity_type1_2d_33x33.h5\", \"w\") as hf:\n",
    "    for key, item in dataset.items():\n",
    "        hf[key] = item"
   ]
  },
  {
   "cell_type": "code",
   "execution_count": 13,
   "metadata": {},
   "outputs": [
    {
     "data": {
      "image/png": "[encoded data removed]",
      "text/plain": [
       "<Figure size 432x288 with 4 Axes>"
      ]
     },
     "metadata": {
      "needs_background": "light"
     },
     "output_type": "display_data"
    }
   ],
   "source": [
    "prob.PlotSolution()"
   ]
  },
  {
   "cell_type": "code",
   "execution_count": 14,
   "metadata": {},
   "outputs": [
    {
     "data": {
      "image/png": "[encoded data removed]",
      "text/plain": [
       "<Figure size 432x288 with 4 Axes>"
      ]
     },
     "metadata": {
      "needs_background": "light"
     },
     "output_type": "display_data"
    }
   ],
   "source": [
    "prob.PlotSolution(prob.b)"
   ]
  }
 ],
 "metadata": {
  "kernelspec": {
   "display_name": "Python 3.8.13 ('pytorch11')",
   "language": "python",
   "name": "python3"
  },
  "language_info": {
   "codemirror_mode": {
    "name": "ipython",
    "version": 3
   },
   "file_extension": ".py",
   "mimetype": "text/x-python",
   "name": "python",
   "nbconvert_exporter": "python",
   "pygments_lexer": "ipython3",
   "version": "3.8.13"
  },
  "orig_nbformat": 4,
  "vscode": {
   "interpreter": {
    "hash": "926ad5c238a4420011e83b59655d6cd21b021d9ee1aa0438d38aa969cfe55744"
   }
  }
 },
 "nbformat": 4,
 "nbformat_minor": 2
}
