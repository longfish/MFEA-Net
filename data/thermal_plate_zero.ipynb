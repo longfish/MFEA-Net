{
 "cells": [
  {
   "attachments": {},
   "cell_type": "markdown",
   "metadata": {},
   "source": [
    "Generate FEM solution for 2D Poisson problem\n",
    "\n",
    "* Test the early termination behavior"
   ]
  },
  {
   "cell_type": "code",
   "execution_count": 1,
   "metadata": {},
   "outputs": [],
   "source": [
    "import numpy as np\n",
    "import matplotlib.pyplot as plt\n",
    "import random\n",
    "import h5py\n",
    "\n",
    "import fea.gaussian_random_fields as gr\n",
    "from fea.fea2d_mesh import SquareMeshThermal\n",
    "from fea.fea2d_thermal import ThermalFEM\n",
    "from fea.img_process import project_input\n",
    "from fea.boundary import define_boundary_nodes"
   ]
  },
  {
   "cell_type": "code",
   "execution_count": 2,
   "metadata": {},
   "outputs": [],
   "source": [
    "n = 2**8\n",
    "ntest_data = 1\n",
    "test_file = \"data_thermal/dirich_plate_zero_257x257.h5\" "
   ]
  },
  {
   "cell_type": "code",
   "execution_count": 3,
   "metadata": {},
   "outputs": [
    {
     "data": {
      "image/png": "[encoded data removed]",
      "text/plain": [
       "<Figure size 640x480 with 2 Axes>"
      ]
     },
     "metadata": {},
     "output_type": "display_data"
    }
   ],
   "source": [
    "def plot_image(img):\n",
    "    plt.figure()\n",
    "    im1 = plt.imshow(img, origin='lower')\n",
    "    plt.axis('off')\n",
    "    plt.colorbar(im1)\n",
    "    \n",
    "imarray = np.ones((n,n))\n",
    "plot_image(imarray)"
   ]
  },
  {
   "cell_type": "code",
   "execution_count": 4,
   "metadata": {},
   "outputs": [],
   "source": [
    "def loading(node_mask, bc):\n",
    "    '''\n",
    "    boundary node list: [top, bottom, left, right, curved]\n",
    "\n",
    "    Randomly assign loadings at boundaries\n",
    "    ''' \n",
    "\n",
    "    h, w = node_mask.shape\n",
    "    top_idx = np.where(bc[0][0] == 1)\n",
    "    bottom_idx = np.where(bc[1][0] == 1)\n",
    "    left_idx = np.where(bc[2][0] == 1)\n",
    "    right_idx = np.where(bc[3][0] == 1)\n",
    "    #curved_idx = np.where(bc[4][0] == 1)\n",
    "\n",
    "    dirich_idx = np.zeros((h, w), dtype=np.int32)\n",
    "    dirich_value = np.zeros_like(dirich_idx, dtype=np.float32)\n",
    "\n",
    "    nneumann = 2 # number of neumann boundaries is 2\n",
    "    neumann_idx = np.zeros((h, w, nneumann), dtype=np.int32)\n",
    "    neumann_value = np.zeros_like(neumann_idx, dtype=np.float32)\n",
    "    neumann_connlist = []\n",
    "\n",
    "    # # randomly pickup neumann boundaries\n",
    "    # lst = [0, 1, 2, 3]\n",
    "    # sample_size = nneumann # randomly pick up 2 boundaries as neumann\n",
    "    # neumann_bc = random.sample(lst, sample_size)\n",
    "    # bc_list = [i in neumann_bc for i in range(len(lst))]\n",
    "\n",
    "    # # assign neumann boundaries\n",
    "    # k = 0\n",
    "    # for i, is_neumann in enumerate(bc_list):\n",
    "    #     if(is_neumann):\n",
    "    #         if(i == 0):\n",
    "    #             neumann_connlist.append(bc[i][1])\n",
    "    #             neumann_idx[top_idx[0], top_idx[1], k] = 1 \n",
    "    #             neumann_value[top_idx[0], top_idx[1], k] = random.uniform(0,1) #random.uniform(-200,200) # [-200,200]\n",
    "    #         if(i == 1):\n",
    "    #             neumann_connlist.append(bc[i][1])\n",
    "    #             neumann_idx[bottom_idx[0], bottom_idx[1], k] = 1 \n",
    "    #             neumann_value[bottom_idx[0], bottom_idx[1], k] = random.uniform(0,1) #random.uniform(-200,200) # [-200,200]\n",
    "    #         if(i == 2):\n",
    "    #             neumann_connlist.append(bc[i][1])\n",
    "    #             neumann_idx[left_idx[0], left_idx[1], k] = 1 \n",
    "    #             neumann_value[left_idx[0], left_idx[1], k] = random.uniform(0,1) #random.uniform(-200,200) # [-200,200]\n",
    "    #         if(i == 3):\n",
    "    #             neumann_connlist.append(bc[i][1])\n",
    "    #             neumann_idx[right_idx[0], right_idx[1], k] = 1 \n",
    "    #             neumann_value[right_idx[0], right_idx[1], k] = random.uniform(0,1) #random.uniform(-200,200) # [-200,200]\n",
    "    #         k += 1\n",
    "\n",
    "    bc_list = [False, False, False, False]\n",
    "    neumann_connlist = [[], []]\n",
    "    for i, is_neumann in enumerate(bc_list):\n",
    "        if (not is_neumann):\n",
    "            if(i == 0):\n",
    "                dirich_idx[top_idx[0], top_idx[1]] = 1 # top\n",
    "                dirich_value[top_idx[0], top_idx[1]] = 0\n",
    "            if(i == 1):\n",
    "                dirich_idx[bottom_idx[0], bottom_idx[1]] = 1 # bottom\n",
    "                dirich_value[bottom_idx[0], bottom_idx[1]] = 0\n",
    "            if(i == 2):\n",
    "                dirich_idx[left_idx[0], left_idx[1]] = 1 # left\n",
    "                dirich_value[left_idx[0], left_idx[1]] = 0\n",
    "            if(i == 3):\n",
    "                dirich_idx[right_idx[0], right_idx[1]] = 1 # right\n",
    "                dirich_value[right_idx[0], right_idx[1]] = 0\n",
    "\n",
    "    dirich_idx_feanet = np.logical_not(dirich_idx).astype(int)\n",
    "    dirich_idx_feanet *= node_mask\n",
    "\n",
    "    return dirich_idx, dirich_idx_feanet, dirich_value, neumann_idx, neumann_value, neumann_connlist"
   ]
  },
  {
   "cell_type": "code",
   "execution_count": 5,
   "metadata": {},
   "outputs": [],
   "source": [
    "hsize = 2.0/n # m\n",
    "elem_mask = np.copy(imarray)\n",
    "h, w = elem_mask.shape\n",
    "material = np.ones((h, w, 1), dtype=np.float32)\n",
    "material[:,:,0] *= 1 # k, thermal conductivity\n",
    "node_mask = project_input(elem_mask)"
   ]
  },
  {
   "cell_type": "code",
   "execution_count": 6,
   "metadata": {},
   "outputs": [],
   "source": [
    "# define boundary nodes and connections\n",
    "bc = define_boundary_nodes(elem_mask) # top(0), bottom(1), left(2), right(3), curved(4)\n",
    "dirich_idx, dirich_idx_feanet, dirich_val, neumann_idx, neumann_val, neumann_connlist = loading(node_mask, bc)\n",
    "f_val = np.zeros_like(dirich_idx)"
   ]
  },
  {
   "cell_type": "code",
   "execution_count": 7,
   "metadata": {},
   "outputs": [],
   "source": [
    "# generate a mesh grid\n",
    "mesh = SquareMeshThermal(hsize, elem_mask, dirich_idx, neumann_connlist, outfile = None)"
   ]
  },
  {
   "cell_type": "code",
   "execution_count": 8,
   "metadata": {},
   "outputs": [],
   "source": [
    "# generate FEM problem\n",
    "# problem = ThermalFEM(mesh, material, dirich_val, neumann_val, f_val)"
   ]
  },
  {
   "cell_type": "code",
   "execution_count": 9,
   "metadata": {},
   "outputs": [],
   "source": [
    "def conn_list2array(node_mask, conn_list):\n",
    "    '''Convert a connection list into nparrays '''\n",
    "    h, w = node_mask.shape\n",
    "    conn_array = np.zeros((h,w,len(conn_list)))\n",
    "    # print(len(conn_list))\n",
    "    if(conn_list == [[],[]]):\n",
    "        return -np.ones((h,w,len(conn_list)))\n",
    "    \n",
    "    for i in range(len(conn_list)):\n",
    "        conn_len = conn_list[i].shape[0]\n",
    "        subarray = np.full((h*w),-1) \n",
    "        subarray[:conn_len] = conn_list[i][:,0]\n",
    "        subarray[conn_len] = conn_list[i][-1,1]\n",
    "        conn_array[:,:,i] = subarray.reshape((h,w))\n",
    "    return conn_array"
   ]
  },
  {
   "cell_type": "code",
   "execution_count": 10,
   "metadata": {},
   "outputs": [],
   "source": [
    "def create_dataset(n_data, hsize, n, node_mask, elem_mask, bc, datafile):\n",
    "    dataset = {}\n",
    "    dirich_idx_data = np.zeros((n_data, n+1, n+1, 1))\n",
    "    dirich_value_data = np.zeros((n_data, n+1, n+1, 1))\n",
    "    neumann_idx_data = np.zeros((n_data, n+1, n+1, 2))\n",
    "    neumann_conn_data = np.zeros((n_data, n+1, n+1, 2)) \n",
    "    neumann_value_data = np.zeros((n_data, n+1, n+1, 2)) # elastic problem will be 4\n",
    "    node_mask_data = np.zeros((n_data, h+1, w+1, 1))\n",
    "    elem_mask_data = np.zeros((n_data, h, w, 1))\n",
    "    material_data = np.zeros((n_data, h, w, 1))\n",
    "    f_data = np.zeros((n_data, h+1, w+1, 1))\n",
    "    u_data = np.zeros((n_data, h+1, w+1, 1))\n",
    "    for i in range(n_data):\n",
    "        dirich_idx, dirich_idx_feanet, dirich_val, neumann_idx, neumann_val, neumann_connlist = loading(node_mask, bc) # randomly generate bcs\n",
    "        material[:,:,0] = 1 # random.uniform(1,20) # randomly generate k, thermal conductivity\n",
    "        f_val = np.zeros_like(dirich_idx)\n",
    "        # mesh = SquareMeshThermal(hsize, elem_mask, dirich_idx, neumann_connlist)\n",
    "        # problem = ThermalFEM(mesh, material, dirich_val, neumann_val, f_val)    \n",
    "        # problem.Solve()\n",
    "        material_data[i] = material*elem_mask.reshape((n,n,1))\n",
    "        elem_mask_data[i,:,:,0] = elem_mask\n",
    "        dirich_idx_data[i,:,:,0] = dirich_idx_feanet\n",
    "        dirich_value_data[i,:,:,0] = dirich_val\n",
    "        neumann_idx_data[i] = neumann_idx\n",
    "        neumann_value_data[i] = neumann_val\n",
    "        neumann_conn_data[i] = conn_list2array(node_mask, neumann_connlist)\n",
    "        f_data[i,:,:,0] = f_val\n",
    "\n",
    "        # create mask images\n",
    "        temp = np.zeros(((n+1)*(n+1),))\n",
    "        temp[mesh.valid_node] = 1\n",
    "        node_mask_data[i,:,:,0] = temp.reshape((n+1,n+1))\n",
    "    \n",
    "    dataset['elem_mask'] = elem_mask_data\n",
    "    dataset['node_mask'] = node_mask_data\n",
    "    dataset['dirich_idx'] = dirich_idx_data\n",
    "    dataset['dirich_value'] = dirich_value_data\n",
    "    dataset['neumann_idx'] = neumann_idx_data\n",
    "    dataset['neumann_value'] = neumann_value_data\n",
    "    dataset['neumann_conn'] = neumann_conn_data\n",
    "    dataset['material'] = material_data\n",
    "    dataset['source'] = f_data\n",
    "    dataset['solution'] = u_data\n",
    "\n",
    "    with h5py.File(datafile, \"w\") as hf:\n",
    "        for key, item in dataset.items():\n",
    "            hf[key] = item"
   ]
  },
  {
   "cell_type": "code",
   "execution_count": 11,
   "metadata": {},
   "outputs": [],
   "source": [
    "create_dataset(ntest_data, hsize, n, node_mask, elem_mask, bc, test_file)"
   ]
  }
 ],
 "metadata": {
  "kernelspec": {
   "display_name": "Python 3.8.13 ('pytorch11')",
   "language": "python",
   "name": "python3"
  },
  "language_info": {
   "codemirror_mode": {
    "name": "ipython",
    "version": 3
   },
   "file_extension": ".py",
   "mimetype": "text/x-python",
   "name": "python",
   "nbconvert_exporter": "python",
   "pygments_lexer": "ipython3",
   "version": "3.11.4"
  },
  "orig_nbformat": 4,
  "vscode": {
   "interpreter": {
    "hash": "926ad5c238a4420011e83b59655d6cd21b021d9ee1aa0438d38aa969cfe55744"
   }
  }
 },
 "nbformat": 4,
 "nbformat_minor": 2
}
