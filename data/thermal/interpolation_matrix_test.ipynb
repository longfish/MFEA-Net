{
 "cells": [
  {
   "attachments": {},
   "cell_type": "markdown",
   "metadata": {},
   "source": [
    "Test if the value inside the 1-D stiffness matrix would change after interpolation and restriction.\n",
    "\n",
    "Conclusion: the multigrid coarse grid matrix is not equal to the original matrix, and multigrid matrix is not symmetric."
   ]
  },
  {
   "cell_type": "code",
   "execution_count": 11,
   "metadata": {},
   "outputs": [],
   "source": [
    "import numpy as np\n",
    "import random"
   ]
  },
  {
   "cell_type": "code",
   "execution_count": 12,
   "metadata": {},
   "outputs": [],
   "source": [
    "def shape(p):\n",
    "    N = 0.5*np.array([1-p,1+p])\n",
    "    dNdp = 0.5*np.array([-1,1])\n",
    "    return N, dNdp"
   ]
  },
  {
   "cell_type": "code",
   "execution_count": 13,
   "metadata": {},
   "outputs": [],
   "source": [
    "# parameters\n",
    "nshape = 2\n",
    "nele = 8\n",
    "L = 0.01\n",
    "nn = nele + 1\n",
    "mesh = np.linspace(0, L, nn)\n",
    "node_list = np.arange(nn)\n",
    "conn = np.stack((node_list[:-1],node_list[1:]), axis=-1)\n",
    "qpts = np.array([[-1, 1], [1, 1]])/np.sqrt(3)"
   ]
  },
  {
   "cell_type": "code",
   "execution_count": 14,
   "metadata": {},
   "outputs": [],
   "source": [
    "K = np.zeros((nn,nn))\n",
    "F = np.zeros((nn,1))\n",
    "for c in conn:\n",
    "    xe = mesh[c]\n",
    "    Ke = np.zeros((2,2))\n",
    "    Fe = np.zeros((2,))\n",
    "    for q in qpts:\n",
    "        N, dNdp = shape(q[0])\n",
    "        x = np.dot(xe, N)\n",
    "        J = np.dot(xe, dNdp) \n",
    "        B = dNdp/J\n",
    "        A = 3.14*(0.5+(0.1-0.5)*x/L)**2\n",
    "        sA = 0.1*100**2/A\n",
    "        Ke += A*J*np.dot(B.T,B)*q[1]\n",
    "        Fe += J*sA*N*q[1]\n",
    "    K[np.ix_(c,c)] += Ke\n",
    "    F[c] += Fe.reshape((2,1))"
   ]
  },
  {
   "cell_type": "code",
   "execution_count": 15,
   "metadata": {},
   "outputs": [],
   "source": [
    "# prescribed temperature boundary\n",
    "bc = [0,nn-1]\n",
    "K[bc,:] = 0\n",
    "K[np.ix_(bc,bc)] = np.eye(2)\n",
    "F[bc] = np.array([0,8]).reshape((2,1))"
   ]
  },
  {
   "cell_type": "code",
   "execution_count": 16,
   "metadata": {},
   "outputs": [],
   "source": [
    "#np.savetxt('K_5.txt', K, fmt='%1.3e')\n",
    "#np.savetxt('F_5.txt', F, fmt='%1.3e')"
   ]
  },
  {
   "cell_type": "code",
   "execution_count": 17,
   "metadata": {},
   "outputs": [],
   "source": [
    "def interp_matrix(n):\n",
    "    stencil = [1, 2, 1]\n",
    "    m = len(stencil)\n",
    "    a = np.zeros((n * (m - 1) + 1, n))\n",
    "    for i in range(n):\n",
    "        a[i * (m - 1):i * (m - 1) + m, i] = stencil\n",
    "    return 0.5*a[1:-1]"
   ]
  },
  {
   "cell_type": "code",
   "execution_count": 18,
   "metadata": {},
   "outputs": [
    {
     "data": {
      "text/plain": [
       "array([[1. , 0. , 0. , 0. , 0. ],\n",
       "       [0.5, 0.5, 0. , 0. , 0. ],\n",
       "       [0. , 1. , 0. , 0. , 0. ],\n",
       "       [0. , 0.5, 0.5, 0. , 0. ],\n",
       "       [0. , 0. , 1. , 0. , 0. ],\n",
       "       [0. , 0. , 0.5, 0.5, 0. ],\n",
       "       [0. , 0. , 0. , 1. , 0. ],\n",
       "       [0. , 0. , 0. , 0.5, 0.5],\n",
       "       [0. , 0. , 0. , 0. , 1. ]])"
      ]
     },
     "execution_count": 18,
     "metadata": {},
     "output_type": "execute_result"
    }
   ],
   "source": [
    "I = interp_matrix(5)\n",
    "I"
   ]
  },
  {
   "cell_type": "code",
   "execution_count": 19,
   "metadata": {},
   "outputs": [
    {
     "data": {
      "text/plain": [
       "array([[1. , 0.5, 0. , 0. , 0. , 0. , 0. , 0. , 0. ],\n",
       "       [0. , 0.5, 1. , 0.5, 0. , 0. , 0. , 0. , 0. ],\n",
       "       [0. , 0. , 0. , 0.5, 1. , 0.5, 0. , 0. , 0. ],\n",
       "       [0. , 0. , 0. , 0. , 0. , 0.5, 1. , 0.5, 0. ],\n",
       "       [0. , 0. , 0. , 0. , 0. , 0. , 0. , 0.5, 1. ]])"
      ]
     },
     "execution_count": 19,
     "metadata": {},
     "output_type": "execute_result"
    }
   ],
   "source": [
    "I.T"
   ]
  },
  {
   "cell_type": "code",
   "execution_count": 20,
   "metadata": {},
   "outputs": [
    {
     "name": "stdout",
     "output_type": "stream",
     "text": [
      "(9, 9)\n",
      "(9, 5)\n",
      "(5, 9)\n"
     ]
    }
   ],
   "source": [
    "print(K.shape)\n",
    "print(I.shape)\n",
    "print(I.T.shape)"
   ]
  },
  {
   "cell_type": "code",
   "execution_count": 22,
   "metadata": {},
   "outputs": [
    {
     "data": {
      "text/plain": [
       "array([[ 311.7110401 ,  278.57920289,    0.        ,    0.        ,\n",
       "           0.        ],\n",
       "       [ 442.34268224, 1169.91179347,  268.3062171 ,    0.        ,\n",
       "           0.        ],\n",
       "       [   0.        ,  268.3062171 ,  662.3054368 ,  137.77886824,\n",
       "           0.        ],\n",
       "       [   0.        ,    0.        ,  137.77886824,  299.72946775,\n",
       "          50.76063567],\n",
       "       [   0.        ,    0.        ,    0.        ,   39.27906331,\n",
       "          28.90178424]])"
      ]
     },
     "execution_count": 22,
     "metadata": {},
     "output_type": "execute_result"
    }
   ],
   "source": [
    "np.dot(I.T,np.dot(K,I))/2"
   ]
  }
 ],
 "metadata": {
  "kernelspec": {
   "display_name": "Python 3.8.13 ('pytorch11')",
   "language": "python",
   "name": "python3"
  },
  "language_info": {
   "codemirror_mode": {
    "name": "ipython",
    "version": 3
   },
   "file_extension": ".py",
   "mimetype": "text/x-python",
   "name": "python",
   "nbconvert_exporter": "python",
   "pygments_lexer": "ipython3",
   "version": "3.11.4"
  },
  "orig_nbformat": 4,
  "vscode": {
   "interpreter": {
    "hash": "926ad5c238a4420011e83b59655d6cd21b021d9ee1aa0438d38aa969cfe55744"
   }
  }
 },
 "nbformat": 4,
 "nbformat_minor": 2
}
