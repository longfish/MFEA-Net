{
 "cells": [
  {
   "attachments": {},
   "cell_type": "markdown",
   "metadata": {},
   "source": [
    "Generate FEM solution for 2D Poisson problem\n",
    "\n",
    "* The mesh configuration is fixed to be square given image as input\n",
    "* Apply both Dirichlet and Neumann boundary conditions for irregular geometry distribution"
   ]
  },
  {
   "cell_type": "code",
   "execution_count": 1,
   "metadata": {},
   "outputs": [],
   "source": [
    "import numpy as np\n",
    "import matplotlib.pyplot as plt\n",
    "import h5py\n",
    "\n",
    "from PIL import Image\n",
    "from fea.fea2d_mesh import SquareMeshThermal\n",
    "from fea.fea2d_thermal import ThermalFEM\n",
    "from fea.img_process import project_input\n",
    "from fea.boundary import define_boundary_nodes\n",
    "from fea.img_process import rotate_image"
   ]
  },
  {
   "cell_type": "markdown",
   "metadata": {},
   "source": [
    "#### Import the image"
   ]
  },
  {
   "cell_type": "code",
   "execution_count": 2,
   "metadata": {},
   "outputs": [],
   "source": [
    "datafile = \"data_Ti64/thermal_Ti64.h5\"\n",
    "samples = ['G5v', 'G6a', 'Y6v', 'Y6a']\n",
    "im = Image.open('data_Ti64/'+samples[0]+'_XZ_256.tif')\n",
    "imarray = np.array(im)/255"
   ]
  },
  {
   "cell_type": "code",
   "execution_count": 3,
   "metadata": {},
   "outputs": [],
   "source": [
    "def plot_image(img):\n",
    "    plt.figure()\n",
    "    im1 = plt.imshow(img, origin='lower')\n",
    "    plt.axis('off')\n",
    "    plt.colorbar(im1)\n",
    "\n",
    "#plot_image(imarray) # note this is the element distribution"
   ]
  },
  {
   "cell_type": "code",
   "execution_count": 4,
   "metadata": {},
   "outputs": [
    {
     "data": {
      "image/png": "[encoded data removed]",
      "text/plain": [
       "<Figure size 640x480 with 2 Axes>"
      ]
     },
     "metadata": {},
     "output_type": "display_data"
    }
   ],
   "source": [
    "# reduce the size of the image\n",
    "times = 4\n",
    "imarray = imarray[::times, ::times]\n",
    "imarray = rotate_image(imarray, 90)\n",
    "plot_image(imarray) # note this is the element distribution"
   ]
  },
  {
   "cell_type": "markdown",
   "metadata": {},
   "source": [
    "#### Define the loading types"
   ]
  },
  {
   "cell_type": "code",
   "execution_count": 5,
   "metadata": {},
   "outputs": [],
   "source": [
    "def loading_type1(node_mask, bc):\n",
    "    '''\n",
    "    boundary node list: [top, bottom, left, right, curved]\n",
    "\n",
    "    Loading (0 is x, 1 is y direction): \n",
    "    Fix the top boundary, apply random loading at bottom boundary\n",
    "    '''\n",
    "\n",
    "    h, w = node_mask.shape\n",
    "    top_idx = np.where(bc[0][0] == 1)\n",
    "    bottom_idx = np.where(bc[1][0] == 1)\n",
    "    left_idx = np.where(bc[2][0] == 1)\n",
    "    right_idx = np.where(bc[3][0] == 1)\n",
    "    curved_idx = np.where(bc[4][0] == 1)\n",
    "\n",
    "    # define dirich boundary (use for FEA and FEA-Net)\n",
    "    # set top temperature to be 0, bottom to be 2, right to be 1\n",
    "    dirich_idx = np.zeros((h, w), dtype=np.int32)\n",
    "    #dirich_idx[top_idx[0], top_idx[1]] = 1 # fix at top\n",
    "    dirich_idx[bottom_idx[0], bottom_idx[1]] = 1 # fix at bottom\n",
    "    # dirich_idx[right_idx[0], right_idx[1]] = 1 # fix at right\n",
    "    dirich_value = np.zeros_like(dirich_idx)\n",
    "    #dirich_value[top_idx[0],top_idx[1]] = 1 \n",
    "    dirich_value[bottom_idx[0], bottom_idx[1]] = 1\n",
    "    # dirich_value[right_idx[0], right_idx[1]] = 1\n",
    "\n",
    "    dirich_idx_feanet = np.logical_not(dirich_idx).astype(int)\n",
    "    dirich_idx_feanet *= node_mask\n",
    "\n",
    "    # define neumann boundary, 1.0 neumann boundary; 0 else\n",
    "    # set left flux to be 2\n",
    "    traction_idx = np.zeros((h, w), dtype=np.int32)\n",
    "    traction_value = np.zeros_like(traction_idx)\n",
    "    traction_idx[curved_idx[0], curved_idx[1]] = 1 \n",
    "    traction_value[curved_idx[0], curved_idx[1]] = 2 \n",
    "\n",
    "    return dirich_idx, dirich_idx_feanet, dirich_value, traction_idx, traction_value"
   ]
  },
  {
   "cell_type": "markdown",
   "metadata": {},
   "source": [
    "#### Define the problem"
   ]
  },
  {
   "cell_type": "code",
   "execution_count": 6,
   "metadata": {},
   "outputs": [],
   "source": [
    "hsize = 0.0061*times # mm\n",
    "elem_mask = np.copy(imarray)\n",
    "h, w = elem_mask.shape\n",
    "material = np.ones((h, w, 1))\n",
    "material[:,:,0] *= 1 # alpha, thermal coefficient\n",
    "node_mask = project_input(elem_mask)\n",
    "\n",
    "# define boundary nodes and connections\n",
    "bc = define_boundary_nodes(elem_mask) # top, bottom, left, right, curved\n",
    "neumann_connlist = [bc[4][1]] # curved boundary is neumann\n",
    "dirich_idx, dirich_idx_feanet, dirich_val, neumann_idx, neumann_val = loading_type1(node_mask, bc)\n",
    "f_val = np.zeros_like(dirich_val)\n"
   ]
  },
  {
   "cell_type": "code",
   "execution_count": 7,
   "metadata": {},
   "outputs": [],
   "source": [
    "# generate a mesh grid\n",
    "mesh = SquareMeshThermal(hsize, elem_mask, dirich_idx, neumann_connlist, outfile = None)"
   ]
  },
  {
   "cell_type": "code",
   "execution_count": 8,
   "metadata": {},
   "outputs": [],
   "source": [
    "# generate FEM problem\n",
    "problem = ThermalFEM(mesh, material, dirich_val.reshape(-1), neumann_val.reshape(-1), f_val.reshape(-1))"
   ]
  },
  {
   "cell_type": "code",
   "execution_count": 9,
   "metadata": {},
   "outputs": [
    {
     "data": {
      "image/png": "[encoded data removed]",
      "text/plain": [
       "<Figure size 640x480 with 2 Axes>"
      ]
     },
     "metadata": {},
     "output_type": "display_data"
    }
   ],
   "source": [
    "problem.Solve()\n",
    "problem.PlotField()"
   ]
  },
  {
   "cell_type": "markdown",
   "metadata": {},
   "source": [
    "#### Post-processing"
   ]
  },
  {
   "cell_type": "code",
   "execution_count": 10,
   "metadata": {},
   "outputs": [
    {
     "data": {
      "image/png": "[encoded data removed]",
      "text/plain": [
       "<Figure size 640x480 with 2 Axes>"
      ]
     },
     "metadata": {},
     "output_type": "display_data"
    }
   ],
   "source": [
    "H = problem.ComputeHeatFlux()\n",
    "problem.PlotField(problem.flux[:,0])"
   ]
  },
  {
   "cell_type": "code",
   "execution_count": 11,
   "metadata": {},
   "outputs": [
    {
     "data": {
      "image/png": "[encoded data removed]",
      "text/plain": [
       "<Figure size 640x480 with 2 Axes>"
      ]
     },
     "metadata": {},
     "output_type": "display_data"
    }
   ],
   "source": [
    "count = problem.ComputeAverageHeatFlux()\n",
    "problem.PlotField(problem.flux_avg[:,0])"
   ]
  },
  {
   "cell_type": "code",
   "execution_count": 12,
   "metadata": {},
   "outputs": [
    {
     "data": {
      "image/png": "[encoded data removed]",
      "text/plain": [
       "<Figure size 640x480 with 2 Axes>"
      ]
     },
     "metadata": {},
     "output_type": "display_data"
    }
   ],
   "source": [
    "problem.PlotField(problem.flux_avg[:,1])"
   ]
  },
  {
   "cell_type": "code",
   "execution_count": 13,
   "metadata": {},
   "outputs": [
    {
     "data": {
      "image/png": "[encoded data removed]",
      "text/plain": [
       "<Figure size 640x480 with 2 Axes>"
      ]
     },
     "metadata": {},
     "output_type": "display_data"
    }
   ],
   "source": [
    "plot_image(count.reshape(65,65))"
   ]
  },
  {
   "cell_type": "code",
   "execution_count": 14,
   "metadata": {},
   "outputs": [
    {
     "data": {
      "text/plain": [
       "array([[2., 4., 4., 4., 4., 4., 4., 4., 4., 4., 4., 4., 4., 4., 4.],\n",
       "       [2., 4., 4., 4., 4., 4., 4., 3., 3., 3., 3., 4., 4., 4., 4.],\n",
       "       [1., 3., 3., 2., 2., 2., 2., 1., 2., 2., 1., 2., 2., 2., 2.],\n",
       "       [0., 1., 1., 0., 0., 0., 0., 0., 1., 1., 0., 0., 0., 0., 0.],\n",
       "       [0., 0., 0., 0., 0., 0., 0., 0., 0., 0., 0., 0., 0., 0., 0.],\n",
       "       [0., 0., 0., 0., 0., 0., 0., 0., 0., 0., 0., 0., 0., 0., 0.],\n",
       "       [0., 0., 0., 0., 0., 0., 0., 0., 0., 0., 0., 0., 0., 0., 0.],\n",
       "       [0., 0., 0., 0., 0., 0., 0., 0., 0., 0., 0., 0., 0., 0., 0.],\n",
       "       [0., 0., 0., 0., 0., 0., 0., 0., 0., 0., 0., 0., 0., 0., 0.],\n",
       "       [0., 0., 0., 0., 0., 0., 0., 0., 0., 0., 0., 0., 0., 0., 0.]])"
      ]
     },
     "execution_count": 14,
     "metadata": {},
     "output_type": "execute_result"
    }
   ],
   "source": [
    "count.reshape(65,65)[-10:,:15]"
   ]
  },
  {
   "cell_type": "markdown",
   "metadata": {},
   "source": [
    "#### Create dataset"
   ]
  },
  {
   "cell_type": "code",
   "execution_count": 15,
   "metadata": {},
   "outputs": [],
   "source": [
    "def conn_list2array(node_mask, conn_list):\n",
    "    '''Convert a connection list into nparrays '''\n",
    "    h, w = node_mask.shape\n",
    "    conn_array = np.zeros((h,w,len(conn_list)))\n",
    "    print(len(conn_list))\n",
    "    for i in range(len(conn_list)):\n",
    "        conn_len = conn_list[i].shape[0]\n",
    "        subarray = np.full((h*w),-1) \n",
    "        subarray[:conn_len] = conn_list[i][:,0]\n",
    "        subarray[conn_len] = conn_list[i][-1,1]\n",
    "        conn_array[:,:,i] = subarray.reshape((h,w))\n",
    "    return conn_array\n"
   ]
  },
  {
   "cell_type": "code",
   "execution_count": 16,
   "metadata": {},
   "outputs": [
    {
     "name": "stdout",
     "output_type": "stream",
     "text": [
      "1\n",
      "Problem #-0 solved\n"
     ]
    }
   ],
   "source": [
    "# Create dataset, please note that all neumann connection should be the same\n",
    "n_data = 1\n",
    "\n",
    "dataset = {}\n",
    "dirich_idx_data = np.zeros((n_data, h+1, w+1, 1))\n",
    "dirich_value_data = np.zeros((n_data, h+1, w+1, 1))\n",
    "neumann_idx_data = np.zeros((n_data, h+1, w+1, 1))\n",
    "neumann_conn_data = np.zeros((n_data, h+1, w+1, len(neumann_connlist)))\n",
    "neumann_value_data = np.zeros((n_data, h+1, w+1, 1))\n",
    "node_mask_data = np.zeros((n_data, h+1, w+1, 1))\n",
    "elem_mask_data = np.zeros((n_data, h, w, 1))\n",
    "material_data = np.zeros((n_data, h, w, 1))\n",
    "f_data = np.zeros((n_data, h+1, w+1, 1))\n",
    "u_data = np.zeros((n_data, h+1, w+1, 1))\n",
    "flux_data = np.zeros((n_data, h+1, w+1, 2))\n",
    "for i in range(n_data):\n",
    "    dirich_idx, dirich_idx_feanet, dirich_val, neumann_idx, neumann_val = loading_type1(node_mask, bc)\n",
    "    problem = ThermalFEM(mesh, material, dirich_val.reshape(-1), neumann_val.reshape(-1), f_val.reshape(-1))    \n",
    "    problem.Solve()\n",
    "    material_data[i] = material*elem_mask.reshape((h,w,1))\n",
    "    elem_mask_data[i,:,:,0] = elem_mask\n",
    "    dirich_idx_data[i,:,:,0] = dirich_idx_feanet\n",
    "    dirich_value_data[i,:,:,0] = dirich_val\n",
    "    neumann_idx_data[i,:,:,0] = neumann_idx\n",
    "    neumann_value_data[i,:,:,0] = neumann_val\n",
    "    neumann_conn_data[i] = conn_list2array(node_mask, neumann_connlist)\n",
    "    f_data[i,:,:,0] = f_val\n",
    "    u_data[i,:,:,0] = problem.d.reshape((h+1, w+1))\n",
    "    print(\"Problem #-\"+str(i)+\" solved\")\n",
    "\n",
    "    problem.ComputeAverageHeatFlux()\n",
    "    flux_data[i,:,:,0] = problem.flux_avg[:,0].reshape((h+1, w+1))\n",
    "    flux_data[i,:,:,1] = problem.flux_avg[:,1].reshape((h+1, w+1))\n",
    "    \n",
    "    # create mask images\n",
    "    temp = np.zeros(((h+1)*(w+1),))\n",
    "    temp[mesh.valid_node] = 1\n",
    "    node_mask_data[i,:,:,0] = temp.reshape((h+1,w+1))"
   ]
  },
  {
   "cell_type": "code",
   "execution_count": 17,
   "metadata": {},
   "outputs": [],
   "source": [
    "dataset['elem_mask'] = elem_mask_data\n",
    "dataset['node_mask'] = node_mask_data\n",
    "dataset['dirich_idx'] = dirich_idx_data\n",
    "dataset['dirich_value'] = dirich_value_data\n",
    "dataset['neumann_idx'] = neumann_idx_data\n",
    "dataset['neumann_value'] = neumann_value_data\n",
    "dataset['neumann_conn'] = neumann_conn_data\n",
    "dataset['material'] = material_data\n",
    "dataset['source'] = f_data\n",
    "dataset['solution'] = u_data\n",
    "#dataset['post'] = flux_data\n",
    "\n",
    "with h5py.File(datafile, \"w\") as hf:\n",
    "    for key, item in dataset.items():\n",
    "        hf[key] = item"
   ]
  }
 ],
 "metadata": {
  "kernelspec": {
   "display_name": "Python 3.8.13 ('pytorch11')",
   "language": "python",
   "name": "python3"
  },
  "language_info": {
   "codemirror_mode": {
    "name": "ipython",
    "version": 3
   },
   "file_extension": ".py",
   "mimetype": "text/x-python",
   "name": "python",
   "nbconvert_exporter": "python",
   "pygments_lexer": "ipython3",
   "version": "3.11.4"
  },
  "orig_nbformat": 4,
  "vscode": {
   "interpreter": {
    "hash": "926ad5c238a4420011e83b59655d6cd21b021d9ee1aa0438d38aa969cfe55744"
   }
  }
 },
 "nbformat": 4,
 "nbformat_minor": 2
}
