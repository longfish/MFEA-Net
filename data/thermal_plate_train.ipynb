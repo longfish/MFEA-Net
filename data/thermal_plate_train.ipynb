{
 "cells": [
  {
   "attachments": {},
   "cell_type": "markdown",
   "metadata": {},
   "source": [
    "Generate FEM solution for 2D Poisson problem\n",
    "\n",
    "* Generate Dirichlet/Neumann boundary conditions randomly for four different edges\n",
    "* Create multiple data points"
   ]
  },
  {
   "cell_type": "code",
   "execution_count": 1,
   "metadata": {},
   "outputs": [],
   "source": [
    "import numpy as np\n",
    "import matplotlib.pyplot as plt\n",
    "import random\n",
    "import h5py\n",
    "\n",
    "import fea.gaussian_random_fields as gr\n",
    "from fea.fea2d_mesh import SquareMeshThermal\n",
    "from fea.fea2d_thermal import ThermalFEM\n",
    "from fea.img_process import project_input\n",
    "from fea.boundary import define_boundary_nodes"
   ]
  },
  {
   "cell_type": "code",
   "execution_count": 2,
   "metadata": {},
   "outputs": [],
   "source": [
    "n = 2**5\n",
    "ntrain_data = 200\n",
    "train_file = \"data_thermal/dirich_plate_train_33x33.h5\" \n",
    "# train_file = \"data_thermal/neumann_plate_train_33x33.h5\"\n",
    "ntest_data = 50\n",
    "test_file = \"data_thermal/dirich_plate_test_33x33.h5\"\n",
    "# test_file = \"data_thermal/neumann_plate_test_33x33.h5\""
   ]
  },
  {
   "cell_type": "markdown",
   "metadata": {},
   "source": [
    "Define the domain"
   ]
  },
  {
   "cell_type": "code",
   "execution_count": 3,
   "metadata": {},
   "outputs": [
    {
     "data": {
      "image/png": "[encoded data removed]",
      "text/plain": [
       "<Figure size 640x480 with 2 Axes>"
      ]
     },
     "metadata": {},
     "output_type": "display_data"
    }
   ],
   "source": [
    "def plot_image(img):\n",
    "    plt.figure()\n",
    "    im1 = plt.imshow(img, origin='lower')\n",
    "    plt.axis('off')\n",
    "    plt.colorbar(im1)\n",
    "    \n",
    "imarray = np.ones((n,n))\n",
    "plot_image(imarray)"
   ]
  },
  {
   "cell_type": "markdown",
   "metadata": {},
   "source": [
    "Define the loading"
   ]
  },
  {
   "cell_type": "code",
   "execution_count": 4,
   "metadata": {},
   "outputs": [],
   "source": [
    "def loading_type1(node_mask, bc):\n",
    "    '''\n",
    "    boundary node list: [top, bottom, left, right, curved]\n",
    "\n",
    "    Randomly assign loadings at boundaries\n",
    "    ''' \n",
    "\n",
    "    h, w = node_mask.shape\n",
    "    top_idx = np.where(bc[0][0] == 1)\n",
    "    bottom_idx = np.where(bc[1][0] == 1)\n",
    "    left_idx = np.where(bc[2][0] == 1)\n",
    "    right_idx = np.where(bc[3][0] == 1)\n",
    "    #curved_idx = np.where(bc[4][0] == 1)\n",
    "\n",
    "    dirich_idx = np.zeros((h, w), dtype=np.int32)\n",
    "    dirich_value = np.zeros_like(dirich_idx, dtype=np.float32)\n",
    "\n",
    "    nneumann = 2 # number of neumann boundaries is 2\n",
    "    neumann_idx = np.zeros((h, w, nneumann), dtype=np.int32)\n",
    "    neumann_value = np.zeros_like(neumann_idx, dtype=np.float32)\n",
    "    neumann_connlist = []\n",
    "\n",
    "    # # randomly pickup neumann boundaries\n",
    "    # lst = [0, 1, 2, 3]\n",
    "    # sample_size = nneumann # randomly pick up 2 boundaries as neumann\n",
    "    # neumann_bc = random.sample(lst, sample_size)\n",
    "    # bc_list = [i in neumann_bc for i in range(len(lst))]\n",
    "\n",
    "    # # assign neumann boundaries\n",
    "    # k = 0\n",
    "    # for i, is_neumann in enumerate(bc_list):\n",
    "    #     if(is_neumann):\n",
    "    #         if(i == 0):\n",
    "    #             neumann_connlist.append(bc[i][1])\n",
    "    #             neumann_idx[top_idx[0], top_idx[1], k] = 1 \n",
    "    #             neumann_value[top_idx[0], top_idx[1], k] = random.uniform(0,1) #random.uniform(-200,200) # [-200,200]\n",
    "    #         if(i == 1):\n",
    "    #             neumann_connlist.append(bc[i][1])\n",
    "    #             neumann_idx[bottom_idx[0], bottom_idx[1], k] = 1 \n",
    "    #             neumann_value[bottom_idx[0], bottom_idx[1], k] = random.uniform(0,1) #random.uniform(-200,200) # [-200,200]\n",
    "    #         if(i == 2):\n",
    "    #             neumann_connlist.append(bc[i][1])\n",
    "    #             neumann_idx[left_idx[0], left_idx[1], k] = 1 \n",
    "    #             neumann_value[left_idx[0], left_idx[1], k] = random.uniform(0,1) #random.uniform(-200,200) # [-200,200]\n",
    "    #         if(i == 3):\n",
    "    #             neumann_connlist.append(bc[i][1])\n",
    "    #             neumann_idx[right_idx[0], right_idx[1], k] = 1 \n",
    "    #             neumann_value[right_idx[0], right_idx[1], k] = random.uniform(0,1) #random.uniform(-200,200) # [-200,200]\n",
    "    #         k += 1\n",
    "\n",
    "    bc_list = [False, False, False, False]\n",
    "    neumann_connlist = [[], []]\n",
    "    for i, is_neumann in enumerate(bc_list):\n",
    "        if (not is_neumann):\n",
    "            if(i == 0):\n",
    "                dirich_idx[top_idx[0], top_idx[1]] = 1 # top\n",
    "                dirich_value[top_idx[0], top_idx[1]] = random.uniform(0,1) #random.uniform(20,80) # [20,80]\n",
    "            if(i == 1):\n",
    "                dirich_idx[bottom_idx[0], bottom_idx[1]] = 1 # bottom\n",
    "                dirich_value[bottom_idx[0], bottom_idx[1]] = random.uniform(0,1) #random.uniform(20,80) # [20,80]\n",
    "            if(i == 2):\n",
    "                dirich_idx[left_idx[0], left_idx[1]] = 1 # left\n",
    "                dirich_value[left_idx[0], left_idx[1]] = random.uniform(0,1) #random.uniform(20,80) # [20,80]\n",
    "            if(i == 3):\n",
    "                dirich_idx[right_idx[0], right_idx[1]] = 1 # right\n",
    "                dirich_value[right_idx[0], right_idx[1]] = random.uniform(0,1) #random.uniform(20,80) # [20,80]\n",
    "\n",
    "    dirich_idx_feanet = np.logical_not(dirich_idx).astype(int)\n",
    "    dirich_idx_feanet *= node_mask\n",
    "\n",
    "    return dirich_idx, dirich_idx_feanet, dirich_value, neumann_idx, neumann_value, neumann_connlist"
   ]
  },
  {
   "cell_type": "markdown",
   "metadata": {},
   "source": [
    "Define the problem"
   ]
  },
  {
   "cell_type": "code",
   "execution_count": 5,
   "metadata": {},
   "outputs": [],
   "source": [
    "hsize = 2e-3 # m\n",
    "elem_mask = np.copy(imarray)\n",
    "h, w = elem_mask.shape\n",
    "material = np.ones((h, w, 1), dtype=np.float32)\n",
    "material[:,:,0] *= 1 # k, thermal conductivity\n",
    "node_mask = project_input(elem_mask)"
   ]
  },
  {
   "cell_type": "code",
   "execution_count": 6,
   "metadata": {},
   "outputs": [],
   "source": [
    "# define boundary nodes and connections\n",
    "bc = define_boundary_nodes(elem_mask) # top(0), bottom(1), left(2), right(3), curved(4)\n",
    "dirich_idx, dirich_idx_feanet, dirich_val, neumann_idx, neumann_val, neumann_connlist = loading_type1(node_mask, bc)"
   ]
  },
  {
   "cell_type": "code",
   "execution_count": 7,
   "metadata": {},
   "outputs": [
    {
     "data": {
      "image/png": "[encoded data removed]",
      "text/plain": [
       "<Figure size 640x480 with 2 Axes>"
      ]
     },
     "metadata": {},
     "output_type": "display_data"
    }
   ],
   "source": [
    "plt.imshow(dirich_val, origin='lower')\n",
    "plt.axis('off')\n",
    "plt.colorbar()\n",
    "plt.savefig('thermal_dirich.png', dpi=500, bbox_inches='tight')"
   ]
  },
  {
   "cell_type": "code",
   "execution_count": 8,
   "metadata": {},
   "outputs": [
    {
     "data": {
      "image/png": "[encoded data removed]",
      "text/plain": [
       "<Figure size 640x480 with 2 Axes>"
      ]
     },
     "metadata": {},
     "output_type": "display_data"
    }
   ],
   "source": [
    "f_val = gr.generate_rf(n+1, [0,1])\n",
    "plt.imshow(f_val, origin='lower')\n",
    "plt.axis('off')\n",
    "plt.colorbar()\n",
    "plt.savefig('thermal_source.png', dpi=500, bbox_inches='tight')"
   ]
  },
  {
   "cell_type": "code",
   "execution_count": 9,
   "metadata": {},
   "outputs": [],
   "source": [
    "# generate a mesh grid\n",
    "mesh = SquareMeshThermal(hsize, elem_mask, dirich_idx, neumann_connlist, outfile = None)"
   ]
  },
  {
   "cell_type": "code",
   "execution_count": 10,
   "metadata": {},
   "outputs": [],
   "source": [
    "# generate FEM problem\n",
    "problem = ThermalFEM(mesh, material, dirich_val, neumann_val, f_val)"
   ]
  },
  {
   "cell_type": "code",
   "execution_count": 11,
   "metadata": {},
   "outputs": [
    {
     "data": {
      "image/png": "[encoded data removed]",
      "text/plain": [
       "<Figure size 640x480 with 2 Axes>"
      ]
     },
     "metadata": {},
     "output_type": "display_data"
    }
   ],
   "source": [
    "problem.Solve('direct')\n",
    "problem.PlotField()"
   ]
  },
  {
   "cell_type": "code",
   "execution_count": 12,
   "metadata": {},
   "outputs": [
    {
     "data": {
      "image/png": "[encoded data removed]",
      "text/plain": [
       "<Figure size 640x480 with 2 Axes>"
      ]
     },
     "metadata": {},
     "output_type": "display_data"
    }
   ],
   "source": [
    "plt.imshow(problem.d.reshape(n+1,n+1), origin='lower')\n",
    "plt.axis('off')\n",
    "plt.colorbar()\n",
    "plt.savefig('thermal_solution.png', dpi=500, bbox_inches='tight')"
   ]
  },
  {
   "cell_type": "markdown",
   "metadata": {},
   "source": [
    "Create dataset"
   ]
  },
  {
   "cell_type": "code",
   "execution_count": 10,
   "metadata": {},
   "outputs": [],
   "source": [
    "def conn_list2array(node_mask, conn_list):\n",
    "    '''Convert a connection list into nparrays '''\n",
    "    h, w = node_mask.shape\n",
    "    conn_array = np.zeros((h,w,len(conn_list)))\n",
    "    # print(len(conn_list))\n",
    "    if(conn_list == [[],[]]):\n",
    "        return -np.ones((h,w,len(conn_list)))\n",
    "    \n",
    "    for i in range(len(conn_list)):\n",
    "        conn_len = conn_list[i].shape[0]\n",
    "        subarray = np.full((h*w),-1) \n",
    "        subarray[:conn_len] = conn_list[i][:,0]\n",
    "        subarray[conn_len] = conn_list[i][-1,1]\n",
    "        conn_array[:,:,i] = subarray.reshape((h,w))\n",
    "    return conn_array\n"
   ]
  },
  {
   "cell_type": "code",
   "execution_count": 11,
   "metadata": {},
   "outputs": [],
   "source": [
    "def create_dataset(n_data, hsize, n, node_mask, elem_mask, bc, datafile):\n",
    "    dataset = {}\n",
    "    dirich_idx_data = np.zeros((n_data, n+1, n+1, 1))\n",
    "    dirich_value_data = np.zeros((n_data, n+1, n+1, 1))\n",
    "    neumann_idx_data = np.zeros((n_data, n+1, n+1, 2))\n",
    "    neumann_conn_data = np.zeros((n_data, n+1, n+1, 2)) \n",
    "    neumann_value_data = np.zeros((n_data, n+1, n+1, 2)) # elastic problem will be 4\n",
    "    node_mask_data = np.zeros((n_data, h+1, w+1, 1))\n",
    "    elem_mask_data = np.zeros((n_data, h, w, 1))\n",
    "    material_data = np.zeros((n_data, h, w, 1))\n",
    "    f_data = np.zeros((n_data, h+1, w+1, 1))\n",
    "    u_data = np.zeros((n_data, h+1, w+1, 1))\n",
    "    for i in range(n_data):\n",
    "        dirich_idx, dirich_idx_feanet, dirich_val, neumann_idx, neumann_val, neumann_connlist = loading_type1(node_mask, bc) # randomly generate bcs\n",
    "        material[:,:,0] = 1 # random.uniform(1,20) # randomly generate k, thermal conductivity\n",
    "        f_val = gr.generate_rf(n+1, [0,1]) # gr.generate_rf(n+1, [0,500]) # randomly generate source term\n",
    "        mesh = SquareMeshThermal(hsize, elem_mask, dirich_idx, neumann_connlist)\n",
    "        problem = ThermalFEM(mesh, material, dirich_val, neumann_val, f_val)    \n",
    "        problem.Solve()\n",
    "        material_data[i] = material*elem_mask.reshape((n,n,1))\n",
    "        elem_mask_data[i,:,:,0] = elem_mask\n",
    "        dirich_idx_data[i,:,:,0] = dirich_idx_feanet\n",
    "        dirich_value_data[i,:,:,0] = dirich_val\n",
    "        neumann_idx_data[i] = neumann_idx\n",
    "        neumann_value_data[i] = neumann_val\n",
    "        neumann_conn_data[i] = conn_list2array(node_mask, neumann_connlist)\n",
    "        f_data[i,:,:,0] = f_val\n",
    "        u_data[i,:,:,0] = problem.d.reshape((n+1, n+1))\n",
    "        print(\"Problem #-\"+str(i)+\" solved\")\n",
    "\n",
    "        # create mask images\n",
    "        temp = np.zeros(((n+1)*(n+1),))\n",
    "        temp[mesh.valid_node] = 1\n",
    "        node_mask_data[i,:,:,0] = temp.reshape((n+1,n+1))\n",
    "    \n",
    "    dataset['elem_mask'] = elem_mask_data\n",
    "    dataset['node_mask'] = node_mask_data\n",
    "    dataset['dirich_idx'] = dirich_idx_data\n",
    "    dataset['dirich_value'] = dirich_value_data\n",
    "    dataset['neumann_idx'] = neumann_idx_data\n",
    "    dataset['neumann_value'] = neumann_value_data\n",
    "    dataset['neumann_conn'] = neumann_conn_data\n",
    "    dataset['material'] = material_data\n",
    "    dataset['source'] = f_data\n",
    "    dataset['solution'] = u_data\n",
    "\n",
    "    with h5py.File(datafile, \"w\") as hf:\n",
    "        for key, item in dataset.items():\n",
    "            hf[key] = item\n",
    "    #return dataset"
   ]
  },
  {
   "cell_type": "code",
   "execution_count": 12,
   "metadata": {},
   "outputs": [
    {
     "name": "stdout",
     "output_type": "stream",
     "text": [
      "Problem #-0 solved\n",
      "Problem #-1 solved\n",
      "Problem #-2 solved\n",
      "Problem #-3 solved\n",
      "Problem #-4 solved\n",
      "Problem #-5 solved\n",
      "Problem #-6 solved\n",
      "Problem #-7 solved\n",
      "Problem #-8 solved\n",
      "Problem #-9 solved\n",
      "Problem #-10 solved\n",
      "Problem #-11 solved\n",
      "Problem #-12 solved\n",
      "Problem #-13 solved\n",
      "Problem #-14 solved\n",
      "Problem #-15 solved\n",
      "Problem #-16 solved\n",
      "Problem #-17 solved\n",
      "Problem #-18 solved\n",
      "Problem #-19 solved\n",
      "Problem #-20 solved\n",
      "Problem #-21 solved\n",
      "Problem #-22 solved\n",
      "Problem #-23 solved\n",
      "Problem #-24 solved\n",
      "Problem #-25 solved\n",
      "Problem #-26 solved\n",
      "Problem #-27 solved\n",
      "Problem #-28 solved\n",
      "Problem #-29 solved\n",
      "Problem #-30 solved\n",
      "Problem #-31 solved\n",
      "Problem #-32 solved\n",
      "Problem #-33 solved\n",
      "Problem #-34 solved\n",
      "Problem #-35 solved\n",
      "Problem #-36 solved\n",
      "Problem #-37 solved\n",
      "Problem #-38 solved\n",
      "Problem #-39 solved\n",
      "Problem #-40 solved\n",
      "Problem #-41 solved\n",
      "Problem #-42 solved\n",
      "Problem #-43 solved\n",
      "Problem #-44 solved\n",
      "Problem #-45 solved\n",
      "Problem #-46 solved\n",
      "Problem #-47 solved\n",
      "Problem #-48 solved\n",
      "Problem #-49 solved\n"
     ]
    }
   ],
   "source": [
    "create_dataset(ntest_data, hsize, n, node_mask, elem_mask, bc, test_file)"
   ]
  },
  {
   "cell_type": "code",
   "execution_count": 13,
   "metadata": {},
   "outputs": [
    {
     "name": "stdout",
     "output_type": "stream",
     "text": [
      "Problem #-0 solved\n",
      "Problem #-1 solved\n",
      "Problem #-2 solved\n",
      "Problem #-3 solved\n",
      "Problem #-4 solved\n",
      "Problem #-5 solved\n",
      "Problem #-6 solved\n",
      "Problem #-7 solved\n",
      "Problem #-8 solved\n",
      "Problem #-9 solved\n",
      "Problem #-10 solved\n",
      "Problem #-11 solved\n",
      "Problem #-12 solved\n",
      "Problem #-13 solved\n",
      "Problem #-14 solved\n",
      "Problem #-15 solved\n",
      "Problem #-16 solved\n",
      "Problem #-17 solved\n",
      "Problem #-18 solved\n",
      "Problem #-19 solved\n",
      "Problem #-20 solved\n",
      "Problem #-21 solved\n",
      "Problem #-22 solved\n",
      "Problem #-23 solved\n",
      "Problem #-24 solved\n",
      "Problem #-25 solved\n",
      "Problem #-26 solved\n",
      "Problem #-27 solved\n",
      "Problem #-28 solved\n",
      "Problem #-29 solved\n",
      "Problem #-30 solved\n",
      "Problem #-31 solved\n",
      "Problem #-32 solved\n",
      "Problem #-33 solved\n",
      "Problem #-34 solved\n",
      "Problem #-35 solved\n",
      "Problem #-36 solved\n",
      "Problem #-37 solved\n",
      "Problem #-38 solved\n",
      "Problem #-39 solved\n",
      "Problem #-40 solved\n",
      "Problem #-41 solved\n",
      "Problem #-42 solved\n",
      "Problem #-43 solved\n",
      "Problem #-44 solved\n",
      "Problem #-45 solved\n",
      "Problem #-46 solved\n",
      "Problem #-47 solved\n",
      "Problem #-48 solved\n",
      "Problem #-49 solved\n",
      "Problem #-50 solved\n",
      "Problem #-51 solved\n",
      "Problem #-52 solved\n",
      "Problem #-53 solved\n",
      "Problem #-54 solved\n",
      "Problem #-55 solved\n",
      "Problem #-56 solved\n",
      "Problem #-57 solved\n",
      "Problem #-58 solved\n",
      "Problem #-59 solved\n",
      "Problem #-60 solved\n",
      "Problem #-61 solved\n",
      "Problem #-62 solved\n",
      "Problem #-63 solved\n",
      "Problem #-64 solved\n",
      "Problem #-65 solved\n",
      "Problem #-66 solved\n",
      "Problem #-67 solved\n",
      "Problem #-68 solved\n",
      "Problem #-69 solved\n",
      "Problem #-70 solved\n",
      "Problem #-71 solved\n",
      "Problem #-72 solved\n",
      "Problem #-73 solved\n",
      "Problem #-74 solved\n",
      "Problem #-75 solved\n",
      "Problem #-76 solved\n",
      "Problem #-77 solved\n",
      "Problem #-78 solved\n",
      "Problem #-79 solved\n",
      "Problem #-80 solved\n",
      "Problem #-81 solved\n",
      "Problem #-82 solved\n",
      "Problem #-83 solved\n",
      "Problem #-84 solved\n",
      "Problem #-85 solved\n",
      "Problem #-86 solved\n",
      "Problem #-87 solved\n",
      "Problem #-88 solved\n",
      "Problem #-89 solved\n",
      "Problem #-90 solved\n",
      "Problem #-91 solved\n",
      "Problem #-92 solved\n",
      "Problem #-93 solved\n",
      "Problem #-94 solved\n",
      "Problem #-95 solved\n",
      "Problem #-96 solved\n",
      "Problem #-97 solved\n",
      "Problem #-98 solved\n",
      "Problem #-99 solved\n",
      "Problem #-100 solved\n",
      "Problem #-101 solved\n",
      "Problem #-102 solved\n",
      "Problem #-103 solved\n",
      "Problem #-104 solved\n",
      "Problem #-105 solved\n",
      "Problem #-106 solved\n",
      "Problem #-107 solved\n",
      "Problem #-108 solved\n",
      "Problem #-109 solved\n",
      "Problem #-110 solved\n",
      "Problem #-111 solved\n",
      "Problem #-112 solved\n",
      "Problem #-113 solved\n",
      "Problem #-114 solved\n",
      "Problem #-115 solved\n",
      "Problem #-116 solved\n",
      "Problem #-117 solved\n",
      "Problem #-118 solved\n",
      "Problem #-119 solved\n",
      "Problem #-120 solved\n",
      "Problem #-121 solved\n",
      "Problem #-122 solved\n",
      "Problem #-123 solved\n",
      "Problem #-124 solved\n",
      "Problem #-125 solved\n",
      "Problem #-126 solved\n",
      "Problem #-127 solved\n",
      "Problem #-128 solved\n",
      "Problem #-129 solved\n",
      "Problem #-130 solved\n",
      "Problem #-131 solved\n",
      "Problem #-132 solved\n",
      "Problem #-133 solved\n",
      "Problem #-134 solved\n",
      "Problem #-135 solved\n",
      "Problem #-136 solved\n",
      "Problem #-137 solved\n",
      "Problem #-138 solved\n",
      "Problem #-139 solved\n",
      "Problem #-140 solved\n",
      "Problem #-141 solved\n",
      "Problem #-142 solved\n",
      "Problem #-143 solved\n",
      "Problem #-144 solved\n",
      "Problem #-145 solved\n",
      "Problem #-146 solved\n",
      "Problem #-147 solved\n",
      "Problem #-148 solved\n",
      "Problem #-149 solved\n",
      "Problem #-150 solved\n",
      "Problem #-151 solved\n",
      "Problem #-152 solved\n",
      "Problem #-153 solved\n",
      "Problem #-154 solved\n",
      "Problem #-155 solved\n",
      "Problem #-156 solved\n",
      "Problem #-157 solved\n",
      "Problem #-158 solved\n",
      "Problem #-159 solved\n",
      "Problem #-160 solved\n",
      "Problem #-161 solved\n",
      "Problem #-162 solved\n",
      "Problem #-163 solved\n",
      "Problem #-164 solved\n",
      "Problem #-165 solved\n",
      "Problem #-166 solved\n",
      "Problem #-167 solved\n",
      "Problem #-168 solved\n",
      "Problem #-169 solved\n",
      "Problem #-170 solved\n",
      "Problem #-171 solved\n",
      "Problem #-172 solved\n",
      "Problem #-173 solved\n",
      "Problem #-174 solved\n",
      "Problem #-175 solved\n",
      "Problem #-176 solved\n",
      "Problem #-177 solved\n",
      "Problem #-178 solved\n",
      "Problem #-179 solved\n",
      "Problem #-180 solved\n",
      "Problem #-181 solved\n",
      "Problem #-182 solved\n",
      "Problem #-183 solved\n",
      "Problem #-184 solved\n",
      "Problem #-185 solved\n",
      "Problem #-186 solved\n",
      "Problem #-187 solved\n",
      "Problem #-188 solved\n",
      "Problem #-189 solved\n",
      "Problem #-190 solved\n",
      "Problem #-191 solved\n",
      "Problem #-192 solved\n",
      "Problem #-193 solved\n",
      "Problem #-194 solved\n",
      "Problem #-195 solved\n",
      "Problem #-196 solved\n",
      "Problem #-197 solved\n",
      "Problem #-198 solved\n",
      "Problem #-199 solved\n"
     ]
    }
   ],
   "source": [
    "create_dataset(ntrain_data, hsize, n, node_mask, elem_mask, bc, train_file)"
   ]
  }
 ],
 "metadata": {
  "kernelspec": {
   "display_name": "Python 3.8.13 ('pytorch11')",
   "language": "python",
   "name": "python3"
  },
  "language_info": {
   "codemirror_mode": {
    "name": "ipython",
    "version": 3
   },
   "file_extension": ".py",
   "mimetype": "text/x-python",
   "name": "python",
   "nbconvert_exporter": "python",
   "pygments_lexer": "ipython3",
   "version": "3.11.4"
  },
  "orig_nbformat": 4,
  "vscode": {
   "interpreter": {
    "hash": "926ad5c238a4420011e83b59655d6cd21b021d9ee1aa0438d38aa969cfe55744"
   }
  }
 },
 "nbformat": 4,
 "nbformat_minor": 2
}
