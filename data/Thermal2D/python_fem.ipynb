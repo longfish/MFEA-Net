{
 "cells": [
  {
   "cell_type": "markdown",
   "metadata": {},
   "source": [
    "Generate FEM solution for 2D Poisson problem"
   ]
  },
  {
   "cell_type": "code",
   "execution_count": 1,
   "metadata": {},
   "outputs": [],
   "source": [
    "import meshio\n",
    "import numpy as np\n",
    "import matplotlib.pyplot as plt\n",
    "import gaussian_random_fields as gr\n",
    "import random\n",
    "import h5py"
   ]
  },
  {
   "cell_type": "code",
   "execution_count": 2,
   "metadata": {},
   "outputs": [
    {
     "data": {
      "text/plain": [
       "<matplotlib.colorbar.Colorbar at 0x7f9dea7388e0>"
      ]
     },
     "execution_count": 2,
     "metadata": {},
     "output_type": "execute_result"
    },
    {
     "data": {
      "image/png": "[encoded data removed]",
      "text/plain": [
       "<Figure size 432x288 with 2 Axes>"
      ]
     },
     "metadata": {
      "needs_background": "light"
     },
     "output_type": "display_data"
    }
   ],
   "source": [
    "n = 2**5\n",
    "rf = gr.gaussian_random_field(alpha=10.6, size=n+1)\n",
    "im = plt.imshow(rf)\n",
    "plt.colorbar(im)"
   ]
  },
  {
   "cell_type": "code",
   "execution_count": 3,
   "metadata": {},
   "outputs": [],
   "source": [
    "class MeshSquareFEM():\n",
    "    \"\"\" Handle a simple square mesh with quad elements\n",
    "    0: background square\n",
    "    \n",
    "    Parameters:\n",
    "        size: length of the square plate\n",
    "        nnode_edge: number of nodes along edges of the plate\n",
    "    \"\"\"\n",
    "\n",
    "    def __init__(self, size, nnode_edge, outfile = None):\n",
    "        self.size = size\n",
    "        self.nnode_edge = nnode_edge\n",
    "        self.node_list = np.arange(nnode_edge*nnode_edge)\n",
    "        self.mesh = None\n",
    "        self.mesh = self.generate_mesh()\n",
    "        self.generate_node_index()\n",
    "        \n",
    "        if outfile is not None:\n",
    "            self.save_mesh(outfile)\n",
    "\n",
    "    def generate_mesh(self):\n",
    "        x = np.linspace(-self.size/2,self.size/2,self.nnode_edge, dtype=np.float32)\n",
    "        y = np.linspace(-self.size/2,self.size/2,self.nnode_edge, dtype=np.float32)\n",
    "        ms_x, ms_y = np.meshgrid(x,y)\n",
    "        x = np.ravel(ms_x).reshape(-1,1)\n",
    "        y = np.ravel(ms_y).reshape(-1,1)\n",
    "        z = np.zeros_like(x, dtype=np.float32)\n",
    "        points = np.concatenate((x,y,z),axis=1)\n",
    "        n_element = (self.nnode_edge-1)*(self.nnode_edge-1)\n",
    "        nodes = np.linspace(0,points.shape[0],points.shape[0],endpoint=False,dtype=int).reshape(self.nnode_edge,self.nnode_edge)\n",
    "        cells = np.zeros((n_element,4),dtype=int)\n",
    "        cells[:,0] = np.ravel(nodes[:self.nnode_edge-1,:self.nnode_edge-1])\n",
    "        cells[:,1] = np.ravel(nodes[:self.nnode_edge-1,1:])\n",
    "        cells[:,2] = np.ravel(nodes[1:,1:])\n",
    "        cells[:,3] = np.ravel(nodes[1:,:self.nnode_edge-1])\n",
    "        return meshio.Mesh(points, [(\"quad\",cells)])\n",
    "\n",
    "    def generate_node_index(self):\n",
    "        '''Generate node index matrix that indicate boundary (True) or internal nodes (False)'''\n",
    "        node_index = []\n",
    "        top = []\n",
    "        bottom = []\n",
    "        left = []\n",
    "        right = []\n",
    "        \n",
    "        for pt in self.mesh.points:\n",
    "            temp_bool = [False, False, False, False, False] # Top, Bottom, Left, Right, Boundary\n",
    "            if (np.isclose(pt[0],-self.size/2)):\n",
    "                temp_bool[2], temp_bool[4] = True, True\n",
    "            if (np.isclose(pt[0],self.size/2)):\n",
    "                temp_bool[3], temp_bool[4] = True, True\n",
    "            if (np.isclose(pt[1],self.size/2)):\n",
    "                temp_bool[0], temp_bool[4] = True, True\n",
    "            if (np.isclose(pt[1],-self.size/2)):\n",
    "                temp_bool[1], temp_bool[4] = True, True\n",
    "            \n",
    "            top.append(temp_bool[0])\n",
    "            bottom.append(temp_bool[1])\n",
    "            left.append(temp_bool[2])\n",
    "            right.append(temp_bool[3])\n",
    "            node_index.append(temp_bool[4])\n",
    "\n",
    "        self.node_top = self.node_list[top]\n",
    "        self.node_bottom = self.node_list[bottom]\n",
    "        self.node_left = self.node_list[left]\n",
    "        self.node_right = self.node_list[right]\n",
    "        self.node_essential = self.node_list[node_index]\n",
    "        self.node_internal = self.node_list[np.invert(node_index)]\n",
    "    \n",
    "    def shapefunc(self, p):\n",
    "        # shape function\n",
    "        N = 0.25*np.array([[(1-p[0])*(1-p[1])],\n",
    "                           [(1+p[0])*(1-p[1])],\n",
    "                           [(1+p[0])*(1+p[1])],\n",
    "                           [(1-p[0])*(1+p[1])]])\n",
    "\n",
    "        dNdp = 0.25*np.array([[-(1-p[1]), -(1-p[0])],\n",
    "                              [(1-p[1]), -(1+p[0])],\n",
    "                              [(1+p[1]), (1+p[0])],\n",
    "                              [-(1+p[1]), (1-p[0])]])\n",
    "        return N, dNdp\n",
    "\n",
    "    def save_mesh(self,outfile = 'mesh_square.vtk'):\n",
    "        self.mesh.write(outfile)"
   ]
  },
  {
   "cell_type": "code",
   "execution_count": 4,
   "metadata": {},
   "outputs": [],
   "source": [
    "class GridFEM():\n",
    "    '''\n",
    "    Note: the n should be the number of elements along edges, e.g., \n",
    "    there are (n-1)*(n-1) internal grid points \n",
    "    '''\n",
    "    def __init__(self, n, size = 2):\n",
    "        self.size = size\n",
    "        self.n = n \n",
    "        self.omega = 2/3\n",
    "        self.qpts = np.array([[-1, 1, 1, -1], [-1, -1, 1, 1]])/np.sqrt(3) #[2x4]\n",
    "        self.d = np.zeros((n+1)*(n+1))\n",
    "        self.f = np.zeros((n+1)*(n+1))\n",
    "        self.grid = MeshSquareFEM(size, nnode_edge=n+1)\n",
    "        \n",
    "    def CreateA(self):\n",
    "        '''\n",
    "        Stiffness matrix, return A_F and A_EF \n",
    "        ''' \n",
    "        A = np.zeros(((self.n+1)*(self.n+1),(self.n+1)*(self.n+1)))\n",
    "        for i, c in enumerate(self.grid.mesh.cells_dict['quad']):\n",
    "            xe = self.grid.mesh.points[c,:].T[:2,:] #[2x4]\n",
    "            alpha = self.grid.mesh.cell_data['alpha'][i]\n",
    "            D = alpha*np.eye(2)\n",
    "            Ke = np.zeros((4,4))\n",
    "            for q in self.qpts.T:\n",
    "                [_,dNdp] = self.grid.shapefunc(q)\n",
    "                J = np.dot(xe, dNdp) #[2x2]\n",
    "                dNdx = np.dot(dNdp, np.linalg.inv(J)) #[4x2]\n",
    "                B = np.zeros((2,4))\n",
    "                B[0,:] = dNdx[:,0]\n",
    "                B[1,:] = dNdx[:,1]\n",
    "                Ke += np.linalg.det(J)*np.dot(B.T,np.dot(D,B))\n",
    "            A[np.ix_(c,c)] += Ke\n",
    "            \n",
    "        return A[np.ix_(self.grid.node_internal,self.grid.node_internal)], A[np.ix_(self.grid.node_essential,self.grid.node_internal)]\n",
    "\n",
    "    def UpdateSource(self, f = None):\n",
    "        '''\n",
    "        Return the rhs internal sourcing term with modification from finite element term\n",
    "        '''\n",
    "        ff = np.zeros_like(f)\n",
    "        for c in self.grid.mesh.cells_dict['quad']:\n",
    "            xe = self.grid.mesh.points[c,:].T[:2,:] #[2x4]\n",
    "            fe = np.zeros(4)\n",
    "            for q in self.qpts.T:\n",
    "                [N,dNdp] = self.grid.shapefunc(q)\n",
    "                J = np.dot(xe, dNdp) #[2x2]\n",
    "                temp = np.linalg.det(J)*np.dot(N,np.dot(N.T,f[c])) #[4x1]\n",
    "                fe += temp\n",
    "            ff[c] += fe\n",
    "        return ff[self.grid.node_internal]\n",
    "    \n",
    "    def SetBC(self, bc_value = None):\n",
    "        '''Boundary values order: top, bottom, left, right'''\n",
    "        if (bc_value is None):\n",
    "            bc_value = np.random.rand(4)\n",
    "        self.d[self.grid.node_top] = bc_value[0]\n",
    "        self.d[self.grid.node_bottom] = bc_value[1]\n",
    "        self.d[self.grid.node_left] = bc_value[2]\n",
    "        self.d[self.grid.node_right] = bc_value[3]\n",
    "        return self.d[self.grid.node_essential]\n",
    "\n",
    "    def GaussianRF(self, n, a_interval):\n",
    "        alpha = random.uniform(2,5)\n",
    "        a0, a1 = a_interval[0],a_interval[1]\n",
    "        field = gr.gaussian_random_field(alpha=alpha, size=n, flag_normalize=False)\n",
    "        f_min, f_max = np.min(field), np.max(field)\n",
    "        rf = (a1-a0)*(field-f_min)/(f_max-f_min)+a0\n",
    "        return rf\n",
    "\n",
    "    def Solve(self, material, bc, f):\n",
    "        '''\n",
    "        Solve the linear equation system\n",
    "        '''\n",
    "        # create cell data\n",
    "        self.grid.mesh.cell_data['alpha'] = material[:, :, 0].reshape(self.n*self.n)\n",
    "\n",
    "        d_E = self.SetBC(bc)\n",
    "        f_F = self.UpdateSource(f)\n",
    "        self.A, self.A_EF = self.CreateA()\n",
    "        b = f_F - np.dot(self.A_EF.T, d_E)\n",
    "        d_F = np.linalg.solve(self.A, b)\n",
    "        self.d[self.grid.node_internal] = d_F\n",
    "\n",
    "    def PlotField(self, field = None):\n",
    "        '''Default is to plot the solution field'''\n",
    "        if(field is None):\n",
    "            field = self.d\n",
    "        \n",
    "        field2d = field.reshape((self.n+1, self.n+1))\n",
    "        im = plt.imshow(field2d, origin='lower')\n",
    "        \n",
    "        plt.axis('off')\n",
    "        plt.colorbar(im)\n",
    "        plt.show()"
   ]
  },
  {
   "cell_type": "code",
   "execution_count": 5,
   "metadata": {},
   "outputs": [],
   "source": [
    "def loading_type2(n, d_values):\n",
    "    '''Loading: fix all boundary as Dirichlet bc.; no Neumann bc.'''\n",
    "    # dirichlet geometry, 1.0 inner points; 0.0 elsewhre\n",
    "    dirich_idx = np.ones((n, n))\n",
    "    dirich_idx[0, :] = 0.\n",
    "    dirich_idx[-1, :] = 0.\n",
    "    dirich_idx[:, 0] = 0.\n",
    "    dirich_idx[:, -1] = 0.\n",
    "\n",
    "    dirich_value = np.zeros_like(dirich_idx)\n",
    "    dirich_value[-1, :] = d_values[0] # top, bottom, left, right\n",
    "    dirich_value[0, :] = d_values[1]\n",
    "    dirich_value[:, 0] = d_values[2]\n",
    "    dirich_value[:, -1] = d_values[3]\n",
    "\n",
    "    # define Neumann boundary, 1.0 traction boundary; 0 else\n",
    "    neumann_idx = np.zeros((n, n))\n",
    "    neumann_value = np.zeros_like(neumann_idx)\n",
    "\n",
    "    return dirich_idx, dirich_value, neumann_idx, neumann_value"
   ]
  },
  {
   "cell_type": "code",
   "execution_count": 6,
   "metadata": {},
   "outputs": [],
   "source": [
    "n = 2**5\n",
    "material = np.ones((n, n, 1)) \n",
    "prob = GridFEM(n)"
   ]
  },
  {
   "cell_type": "code",
   "execution_count": 7,
   "metadata": {},
   "outputs": [
    {
     "data": {
      "image/png": "[encoded data removed]",
      "text/plain": [
       "<Figure size 432x288 with 2 Axes>"
      ]
     },
     "metadata": {
      "needs_background": "light"
     },
     "output_type": "display_data"
    }
   ],
   "source": [
    "f = prob.GaussianRF(n+1, [0,10]).reshape(((n+1)*(n+1),))\n",
    "prob.Solve(material, bc=[1,2,3,4], f = f)\n",
    "prob.PlotField()"
   ]
  },
  {
   "cell_type": "code",
   "execution_count": 8,
   "metadata": {},
   "outputs": [
    {
     "name": "stdout",
     "output_type": "stream",
     "text": [
      "Problem #-0 solved\n",
      "Problem #-1 solved\n",
      "Problem #-2 solved\n",
      "Problem #-3 solved\n",
      "Problem #-4 solved\n",
      "Problem #-5 solved\n",
      "Problem #-6 solved\n",
      "Problem #-7 solved\n",
      "Problem #-8 solved\n",
      "Problem #-9 solved\n"
     ]
    }
   ],
   "source": [
    "# Create dataset\n",
    "dataset = {}\n",
    "n_data = 10\n",
    "dirich_idx_data = np.zeros((n_data, n+1, n+1, 1))\n",
    "dirich_value_data = np.zeros((n_data, n+1, n+1, 1))\n",
    "neumann_idx_data = np.zeros((n_data, n+1, n+1, 1))\n",
    "neumann_value_data = np.zeros((n_data, n+1, n+1, 1))\n",
    "material_data = np.zeros((n_data, n, n, 1))\n",
    "f_data = np.zeros((n_data, n+1, n+1))\n",
    "u_data = np.zeros((n_data, n+1, n+1))\n",
    "for i in range(n_data):\n",
    "    f = prob.GaussianRF(n+1, [0,10]).reshape(((n+1)*(n+1),))\n",
    "    bc = np.random.rand(4)\n",
    "    material = prob.GaussianRF(n, [0.5,2]).reshape(n,n,1)\n",
    "    #material = np.ones((n,n,1))\n",
    "    prob.Solve(material, bc=bc, f = f)\n",
    "    material_data[i] = material\n",
    "    dirich_idx, dirich_value, neumann_idx, neumann_value = loading_type2(n+1, bc)\n",
    "    dirich_idx_data[i,:,:,0] = dirich_idx\n",
    "    dirich_value_data[i,:,:,0] = dirich_value\n",
    "    neumann_idx_data[i,:,:,0] = neumann_idx\n",
    "    neumann_value_data[i,:,:,0] = neumann_value\n",
    "    f_data[i,:,:] = f.reshape((n+1, n+1))\n",
    "    u_data[i,:,:] = prob.d.reshape((n+1, n+1))\n",
    "    print(\"Problem #-\"+str(i)+\" solved\")"
   ]
  },
  {
   "cell_type": "code",
   "execution_count": 9,
   "metadata": {},
   "outputs": [],
   "source": [
    "dataset['dirich_idx'] = dirich_idx_data\n",
    "dataset['dirich_value'] = dirich_value_data\n",
    "dataset['neumann_idx'] = neumann_idx_data\n",
    "dataset['neumann_value'] = neumann_value_data\n",
    "dataset['material'] = material_data\n",
    "dataset['source'] = f_data\n",
    "dataset['solution'] = u_data\n",
    "\n",
    "with h5py.File(\"poisson2d_33x33.h5\", \"w\") as hf:\n",
    "    for key, item in dataset.items():\n",
    "        hf[key] = item"
   ]
  }
 ],
 "metadata": {
  "kernelspec": {
   "display_name": "Python 3.8.13 ('pytorch11')",
   "language": "python",
   "name": "python3"
  },
  "language_info": {
   "codemirror_mode": {
    "name": "ipython",
    "version": 3
   },
   "file_extension": ".py",
   "mimetype": "text/x-python",
   "name": "python",
   "nbconvert_exporter": "python",
   "pygments_lexer": "ipython3",
   "version": "3.8.13"
  },
  "orig_nbformat": 4,
  "vscode": {
   "interpreter": {
    "hash": "926ad5c238a4420011e83b59655d6cd21b021d9ee1aa0438d38aa969cfe55744"
   }
  }
 },
 "nbformat": 4,
 "nbformat_minor": 2
}
