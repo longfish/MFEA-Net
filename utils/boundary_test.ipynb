{
 "cells": [
  {
   "cell_type": "markdown",
   "metadata": {},
   "source": [
    "Assume there is only one curved edge"
   ]
  },
  {
   "cell_type": "code",
   "execution_count": 1,
   "metadata": {},
   "outputs": [],
   "source": [
    "import numpy as np\n",
    "import matplotlib.pyplot as plt"
   ]
  },
  {
   "cell_type": "code",
   "execution_count": 2,
   "metadata": {},
   "outputs": [],
   "source": [
    "def find_surrounding(img, pt):\n",
    "    '''\n",
    "    Given a point, return a list of points that are surrounding of current points inside the image\n",
    "    Sequence starts from top left.\n",
    "    Array format:\n",
    "    0 | 1 | 2\n",
    "    3 | X | 4\n",
    "    5 | 6 | 7\n",
    "    In above, (0,1,2) is actually bottom, (5,6,7) is top\n",
    "    '''\n",
    "    temp = [[pt[0]-1,pt[1]-1],\n",
    "            [pt[0]-1,pt[1]],\n",
    "            [pt[0]-1,pt[1]+1],\n",
    "            [pt[0],pt[1]-1],\n",
    "            [pt[0],pt[1]+1],\n",
    "            [pt[0]+1,pt[1]-1],\n",
    "            [pt[0]+1,pt[1]],\n",
    "            [pt[0]+1,pt[1]+1]]\n",
    "    surrounding = [0, 1, 2, 3, 4, 5, 6, 7]\n",
    "    dict_surrounding = dict(zip(surrounding, temp))\n",
    "    h, w = img.shape\n",
    "    for i, p in enumerate(temp):\n",
    "        if(p[0] < 0 or p[1] < 0 or p[0] >= h or p[1] >= w):\n",
    "            del dict_surrounding[i]\n",
    "    return dict_surrounding\n",
    "\n",
    "def reorder_connection(neumann_conn):\n",
    "    '''\n",
    "    Given a list of connected nodes, write a function to let it to be head-tail connected. \n",
    "    The order of each connection can be changed. For example if the input is \n",
    "    [[1,2],[2,4],[6,5],[4,3],[3,5]], the output should be \n",
    "    [[1,2],[2,4],[4,3],[3,5],[5,6]]. The first element of input should keep unchanged. \n",
    "\n",
    "    Input: neumann_conn, a list with each element is a two-element sublist\n",
    "    Output: corrected order neumann_conn \n",
    "    '''\n",
    "\n",
    "    graph = {}\n",
    "    for a, b in neumann_conn:\n",
    "        graph.setdefault(a, []).append(b)\n",
    "        graph.setdefault(b, []).append(a)\n",
    "\n",
    "    visited = set()\n",
    "    result = []\n",
    "\n",
    "    def dfs(node):\n",
    "        for neighbor in graph[node]:\n",
    "            if neighbor not in visited:\n",
    "                visited.add(neighbor)\n",
    "                result.append([node, neighbor])\n",
    "                dfs(neighbor)\n",
    "\n",
    "    # Start from the first node in the input\n",
    "    start_node = neumann_conn[0][0]\n",
    "    visited.add(start_node)\n",
    "    dfs(start_node)\n",
    "\n",
    "    return np.array(result)\n",
    "\n",
    "def define_curved_nodes(img):\n",
    "    '''\n",
    "    Define the curved boundary, also need to define connection. Please note that \n",
    "    this complex function needs to be validated if used in other cases. \n",
    "\n",
    "    The node id is arranged by row-first approach\n",
    "    '''\n",
    "    h_img, w_img = img.shape\n",
    "    curved = np.zeros((h_img+1, w_img+1))\n",
    "    curved_conn = []\n",
    "    for i in range(h_img):\n",
    "        for j in range(w_img):\n",
    "            if(img[i,j]==1): # if there is material in current pixel i, j\n",
    "                surrounding = find_surrounding(img, [i,j]) # surrounding pixels\n",
    "\n",
    "                # if surrounding doesn't contain 1, it is bottom edge\n",
    "                # if surrounding doesn't contain 6, it is top edge\n",
    "                # if surrounding doesn't contain 3, it is left edge\n",
    "                # if surrounding doesn't contain 4, it is right edge\n",
    "                \n",
    "                for key in surrounding: \n",
    "                    pt = surrounding[key]\n",
    "                    if(img[pt[0],pt[1]]==0):\n",
    "                        if(key == 0):\n",
    "                            curved[i,j] = 1\n",
    "                        if(key == 1):\n",
    "                            curved[i,j] = 1\n",
    "                            curved[i,j+1] = 1\n",
    "                            curved_conn.append([\n",
    "                                i*(w_img+1)+j,i*(w_img+1)+j+1\n",
    "                            ]) # generate a connection\n",
    "                        if(key == 2):\n",
    "                            curved[i,j+1] = 1\n",
    "                        if(key == 3):\n",
    "                            curved[i,j] = 1\n",
    "                            curved[i+1,j] = 1\n",
    "                            curved_conn.append([\n",
    "                                i*(w_img+1)+j,(i+1)*(w_img+1)+j\n",
    "                            ]) # generate a connection\n",
    "                        if(key == 4):\n",
    "                            curved[i,j+1] = 1\n",
    "                            curved[i+1,j+1] = 1\n",
    "                            curved_conn.append([\n",
    "                                i*(w_img+1)+j+1,(i+1)*(w_img+1)+j+1\n",
    "                            ]) # generate a connection\n",
    "                        if(key == 5):\n",
    "                            curved[i+1,j] = 1\n",
    "                        if(key == 6):\n",
    "                            curved[i+1,j] = 1\n",
    "                            curved[i+1,j+1] = 1\n",
    "                            curved_conn.append([\n",
    "                                (i+1)*(w_img+1)+j,(i+1)*(w_img+1)+j+1\n",
    "                            ]) # generate a connection\n",
    "                        if(key == 7):\n",
    "                            curved[i+1,j+1] = 1\n",
    "\n",
    "    if(curved_conn is not []):\n",
    "        curved_conn = reorder_connection(curved_conn)\n",
    "    return [curved, curved_conn]"
   ]
  },
  {
   "cell_type": "code",
   "execution_count": 3,
   "metadata": {},
   "outputs": [],
   "source": [
    "def circles_pattern(n=2**5, n_circ=[1,5], radius_frac=[1/20., 1/10.]):\n",
    "    # randomly generate num_circ centroids, associate with a radius (distribute from size/8 to size/2)\n",
    "    ## do the following if need no overlapping\n",
    "    ## loop through every pair of the circles:\n",
    "    ##   store the circle information if overlaping \n",
    "    ## remove all the stored circles\n",
    "    # generate a zero plate with size of (n, n)\n",
    "    # loop through points on the plate\n",
    "    #   loop through the circles\n",
    "    #   check if point fall into the circle, if yes -> change to 1\n",
    "    size=2.\n",
    "    h=size/n\n",
    "    num_circ = np.random.randint(n_circ[0], n_circ[1])\n",
    "    x, y = 2*np.random.random((num_circ,)), 2*np.random.random((num_circ,))\n",
    "    radius = (size*radius_frac[1]-size*radius_frac[0])*np.random.random((num_circ,))+size*radius_frac[1]\n",
    "    circs = np.stack((x, y, radius), axis=1)\n",
    "    plate = np.zeros(shape=(n, n))\n",
    "    for i in range(n):\n",
    "        for j in range(n):\n",
    "            x_i = h*(i+1)-0.5*h\n",
    "            y_i = h*(j+1)-0.5*h\n",
    "            for c in range(num_circ):\n",
    "                d_sq = np.power(circs[c][0]-x_i, 2) + np.power(circs[c][1]-y_i, 2)\n",
    "                if(d_sq < circs[c][2]*circs[c][2]):\n",
    "                    plate[i][j] = 1.\n",
    "    return plate"
   ]
  },
  {
   "cell_type": "code",
   "execution_count": 4,
   "metadata": {},
   "outputs": [
    {
     "data": {
      "text/plain": [
       "<matplotlib.image.AxesImage at 0x124876e90>"
      ]
     },
     "execution_count": 4,
     "metadata": {},
     "output_type": "execute_result"
    },
    {
     "data": {
      "image/png": "[encoded data removed]",
      "text/plain": [
       "<Figure size 640x480 with 1 Axes>"
      ]
     },
     "metadata": {},
     "output_type": "display_data"
    }
   ],
   "source": [
    "my_plate = circles_pattern(n_circ=[1,2], radius_frac=[1/4., 1/2.])\n",
    "plt.imshow(my_plate)"
   ]
  },
  {
   "cell_type": "code",
   "execution_count": 5,
   "metadata": {},
   "outputs": [],
   "source": [
    "curved, curved_conn = define_curved_nodes(my_plate)"
   ]
  },
  {
   "cell_type": "code",
   "execution_count": 6,
   "metadata": {},
   "outputs": [
    {
     "data": {
      "text/plain": [
       "<matplotlib.image.AxesImage at 0x124951dd0>"
      ]
     },
     "execution_count": 6,
     "metadata": {},
     "output_type": "execute_result"
    },
    {
     "data": {
      "image/png": "[encoded data removed]",
      "text/plain": [
       "<Figure size 640x480 with 1 Axes>"
      ]
     },
     "metadata": {},
     "output_type": "display_data"
    }
   ],
   "source": [
    "plt.imshow(curved)"
   ]
  },
  {
   "cell_type": "code",
   "execution_count": 7,
   "metadata": {},
   "outputs": [
    {
     "data": {
      "text/plain": [
       "False"
      ]
     },
     "execution_count": 7,
     "metadata": {},
     "output_type": "execute_result"
    }
   ],
   "source": [
    "a= {1: 400,\n",
    "    2: 4550,\n",
    "    4: 22}\n",
    "4 not in a"
   ]
  },
  {
   "cell_type": "code",
   "execution_count": 8,
   "metadata": {},
   "outputs": [],
   "source": [
    "def add_edge_connection(img, key, idx, conn, i, j):\n",
    "    '''\n",
    "    Node pattern:\n",
    "    0 | 1 | 2\n",
    "    3 | X | 4\n",
    "    5 | 6 | 7\n",
    "    '''\n",
    "    _, w_img = img.shape\n",
    "\n",
    "    if(key == 1 or key == 6):\n",
    "        if(j == 0):\n",
    "            idx[i,j] = 1\n",
    "            idx[i+1,j] = 1\n",
    "            conn.append([i*(w_img+1)+j,(i+1)*(w_img+1)+j])\n",
    "        else:\n",
    "            idx[i,j+1] = 1\n",
    "            idx[i+1,j+1] = 1\n",
    "            conn.append([i*(w_img+1)+j+1,(i+1)*(w_img+1)+j+1])\n",
    "    if(key == 3 or key == 4):\n",
    "        if(i == 0):\n",
    "            idx[i,j] = 1\n",
    "            idx[i,j+1] = 1\n",
    "            conn.append([i*(w_img+1)+j,i*(w_img+1)+j+1])\n",
    "        else: \n",
    "            idx[i+1,j] = 1\n",
    "            idx[i+1,j+1] = 1\n",
    "            conn.append([(i+1)*(w_img+1)+j,(i+1)*(w_img+1)+j+1])\n"
   ]
  },
  {
   "cell_type": "code",
   "execution_count": 9,
   "metadata": {},
   "outputs": [],
   "source": [
    "def define_edge_nodes(img):\n",
    "    '''\n",
    "    Define edges other than the curved nodes\n",
    "    Node pattern:\n",
    "    0 | 1 | 2\n",
    "    3 | X | 4\n",
    "    5 | 6 | 7\n",
    "    '''\n",
    "    \n",
    "    # define the straight boundary edges\n",
    "    h_img, w_img = img.shape\n",
    "\n",
    "    top_idx = np.zeros((h_img+1, w_img+1))\n",
    "    bottom_idx = np.zeros((h_img+1, w_img+1))\n",
    "    left_idx = np.zeros((h_img+1, w_img+1))\n",
    "    right_idx = np.zeros((h_img+1, w_img+1))\n",
    "\n",
    "    conns = 4*[[]] # top, bottom, left, right\n",
    "\n",
    "    for i in range(h_img):\n",
    "        for j in range(w_img):\n",
    "            if(img[i,j]==1): # if there is material in current pixel i, j\n",
    "                surr1 = find_surrounding(img, [i,j]) # surrounding pixels\n",
    "                for key in surr1: \n",
    "                    pt = surr1[key]\n",
    "                    if(img[pt[0],pt[1]]==1):\n",
    "                        surr2 = find_surrounding(img, [pt[0],pt[1]])\n",
    "                        if((6 not in surr1) and (6 not in surr2)):\n",
    "                            # if surrounding doesn't contain 6, it is top edge\n",
    "                            add_edge_connection(img, key, top_idx, conns[0], i, j)\n",
    "                        if((1 not in surr1) and (1 not in surr2)):\n",
    "                            # if surrounding doesn't contain 1, it is bottom edge\n",
    "                            add_edge_connection(img, key, bottom_idx, conns[1], i, j)\n",
    "                        if((3 not in surr1) and (3 not in surr2)):\n",
    "                            # if surrounding doesn't contain 3, it is left edge\n",
    "                            add_edge_connection(img, key, left_idx, conns[2], i, j)\n",
    "                        if((4 not in surr1) and (4 not in surr2)):\n",
    "                            # if surrounding doesn't contain 4, it is right edge\n",
    "                            add_edge_connection(img, key, right_idx, conns[3], i, j)\n",
    "    for i in range(len(conns)):\n",
    "        if(conns[i] is not []):\n",
    "            conns[i] = reorder_connection(conns[i])\n",
    "            \n",
    "    return [[top_idx, conns[0]], [bottom_idx, conns[1]], \n",
    "            [left_idx, conns[2]], [right_idx, conns[3]]]\n"
   ]
  },
  {
   "cell_type": "code",
   "execution_count": 26,
   "metadata": {},
   "outputs": [],
   "source": [
    "def define_boundary_nodes(img):\n",
    "    boundary = define_edge_nodes(img)\n",
    "    curved_edge = define_curved_nodes(img) # assume there is only one curved edge\n",
    "    boundary.append(curved_edge)\n",
    "    return boundary"
   ]
  },
  {
   "cell_type": "code",
   "execution_count": 27,
   "metadata": {},
   "outputs": [],
   "source": [
    "morenodes = define_boundary_nodes(my_plate)"
   ]
  },
  {
   "cell_type": "code",
   "execution_count": 34,
   "metadata": {},
   "outputs": [
    {
     "name": "stdout",
     "output_type": "stream",
     "text": [
      "(33, 33)\n",
      "(33, 33)\n",
      "(33, 33)\n",
      "(33, 33)\n",
      "(33, 33)\n"
     ]
    }
   ],
   "source": [
    "print(morenodes[0][0].shape)\n",
    "print(morenodes[1][0].shape)\n",
    "print(morenodes[2][0].shape)\n",
    "print(morenodes[3][0].shape)\n",
    "print(morenodes[4][0].shape)"
   ]
  },
  {
   "cell_type": "code",
   "execution_count": 33,
   "metadata": {},
   "outputs": [
    {
     "data": {
      "text/plain": [
       "<matplotlib.image.AxesImage at 0x124f98f50>"
      ]
     },
     "execution_count": 33,
     "metadata": {},
     "output_type": "execute_result"
    },
    {
     "data": {
      "image/png": "[encoded data removed]",
      "text/plain": [
       "<Figure size 640x480 with 1 Axes>"
      ]
     },
     "metadata": {},
     "output_type": "display_data"
    }
   ],
   "source": [
    "plt.imshow(morenodes[4][0])"
   ]
  }
 ],
 "metadata": {
  "kernelspec": {
   "display_name": "computer_vision",
   "language": "python",
   "name": "python3"
  },
  "language_info": {
   "codemirror_mode": {
    "name": "ipython",
    "version": 3
   },
   "file_extension": ".py",
   "mimetype": "text/x-python",
   "name": "python",
   "nbconvert_exporter": "python",
   "pygments_lexer": "ipython3",
   "version": "3.11.4"
  }
 },
 "nbformat": 4,
 "nbformat_minor": 2
}
