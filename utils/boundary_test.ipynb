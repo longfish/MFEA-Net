{
 "cells": [
  {
   "cell_type": "code",
   "execution_count": 1,
   "metadata": {},
   "outputs": [],
   "source": [
    "import numpy as np\n",
    "import matplotlib.pyplot as plt"
   ]
  },
  {
   "cell_type": "code",
   "execution_count": 2,
   "metadata": {},
   "outputs": [],
   "source": [
    "def find_surrounding(img, pt):\n",
    "    '''\n",
    "    Given a point, return a list of points that are surrounding of current points inside the image\n",
    "    Sequence starts from top left.\n",
    "    Array format:\n",
    "    0 | 1 | 2\n",
    "    3 | X | 4\n",
    "    5 | 6 | 7\n",
    "    In above, (0,1,2) is actually bottom, (5,6,7) is top\n",
    "    '''\n",
    "    temp = [[pt[0]-1,pt[1]-1],\n",
    "            [pt[0]-1,pt[1]],\n",
    "            [pt[0]-1,pt[1]+1],\n",
    "            [pt[0],pt[1]-1],\n",
    "            [pt[0],pt[1]+1],\n",
    "            [pt[0]+1,pt[1]-1],\n",
    "            [pt[0]+1,pt[1]],\n",
    "            [pt[0]+1,pt[1]+1]]\n",
    "    surrounding = [0, 1, 2, 3, 4, 5, 6, 7]\n",
    "    dict_surrounding = dict(zip(surrounding, temp))\n",
    "    h, w = img.shape\n",
    "    for i, p in enumerate(temp):\n",
    "        if(p[0] < 0 or p[1] < 0 or p[0] >= h or p[1] >= w):\n",
    "            del dict_surrounding[i]\n",
    "    return dict_surrounding\n",
    "\n",
    "def reorder_connection(neumann_conn):\n",
    "    '''\n",
    "    Given a list of connected nodes, write a function to let it to be head-tail connected. \n",
    "    The order of each connection can be changed. For example if the input is \n",
    "    [[1,2],[2,4],[6,5],[4,3],[3,5]], the output should be \n",
    "    [[1,2],[2,4],[4,3],[3,5],[5,6]]. The first element of input should keep unchanged. \n",
    "\n",
    "    Input: neumann_conn, a list with each element is a two-element sublist\n",
    "    Output: corrected order neumann_conn \n",
    "    '''\n",
    "\n",
    "    graph = {}\n",
    "    for a, b in neumann_conn:\n",
    "        graph.setdefault(a, []).append(b)\n",
    "        graph.setdefault(b, []).append(a)\n",
    "\n",
    "    visited = set()\n",
    "    result = []\n",
    "\n",
    "    def dfs(node):\n",
    "        for neighbor in graph[node]:\n",
    "            if neighbor not in visited:\n",
    "                visited.add(neighbor)\n",
    "                result.append([node, neighbor])\n",
    "                dfs(neighbor)\n",
    "\n",
    "    # Start from the first node in the input\n",
    "    start_node = neumann_conn[0][0]\n",
    "    visited.add(start_node)\n",
    "    dfs(start_node)\n",
    "\n",
    "    return np.array(result)\n",
    "\n",
    "def define_curved_nodes(img):\n",
    "    '''\n",
    "    Define the curved boundary, also need to define connection. Please note that \n",
    "    this complex function needs to be validated if used in other cases. \n",
    "\n",
    "    The node id is arranged by row-first approach\n",
    "    '''\n",
    "    h_img, w_img = img.shape\n",
    "    curved = np.zeros((h_img+1, w_img+1))\n",
    "    curved_conn = []\n",
    "    for i in range(h_img):\n",
    "        for j in range(w_img):\n",
    "            if(img[i,j]==1): # if there is material in current pixel i, j\n",
    "                surrounding = find_surrounding(img, [i,j]) # surrounding pixels\n",
    "\n",
    "                # if surrounding doesn't contain 1, it is bottom edge\n",
    "                # if surrounding doesn't contain 6, it is top edge\n",
    "                # if surrounding doesn't contain 3, it is left edge\n",
    "                # if surrounding doesn't contain 4, it is right edge\n",
    "                \n",
    "                for key in surrounding: \n",
    "                    pt = surrounding[key]\n",
    "                    if(img[pt[0],pt[1]]==0):\n",
    "                        if(key == 0):\n",
    "                            curved[i,j] = 1\n",
    "                        if(key == 1):\n",
    "                            curved[i,j] = 1\n",
    "                            curved[i,j+1] = 1\n",
    "                            curved_conn.append([\n",
    "                                i*(w_img+1)+j,i*(w_img+1)+j+1\n",
    "                            ]) # generate a connection\n",
    "                        if(key == 2):\n",
    "                            curved[i,j+1] = 1\n",
    "                        if(key == 3):\n",
    "                            curved[i,j] = 1\n",
    "                            curved[i+1,j] = 1\n",
    "                            curved_conn.append([\n",
    "                                i*(w_img+1)+j,(i+1)*(w_img+1)+j\n",
    "                            ]) # generate a connection\n",
    "                        if(key == 4):\n",
    "                            curved[i,j+1] = 1\n",
    "                            curved[i+1,j+1] = 1\n",
    "                            curved_conn.append([\n",
    "                                i*(w_img+1)+j+1,(i+1)*(w_img+1)+j+1\n",
    "                            ]) # generate a connection\n",
    "                        if(key == 5):\n",
    "                            curved[i+1,j] = 1\n",
    "                        if(key == 6):\n",
    "                            curved[i+1,j] = 1\n",
    "                            curved[i+1,j+1] = 1\n",
    "                            curved_conn.append([\n",
    "                                (i+1)*(w_img+1)+j,(i+1)*(w_img+1)+j+1\n",
    "                            ]) # generate a connection\n",
    "                        if(key == 7):\n",
    "                            curved[i+1,j+1] = 1\n",
    "\n",
    "    return [curved], [reorder_connection(curved_conn)]"
   ]
  },
  {
   "cell_type": "code",
   "execution_count": 3,
   "metadata": {},
   "outputs": [],
   "source": [
    "def circles_pattern(n=2**5, n_circ=[1,5], radius_frac=[1/20., 1/10.]):\n",
    "    # randomly generate num_circ centroids, associate with a radius (distribute from size/8 to size/2)\n",
    "    ## do the following if need no overlapping\n",
    "    ## loop through every pair of the circles:\n",
    "    ##   store the circle information if overlaping \n",
    "    ## remove all the stored circles\n",
    "    # generate a zero plate with size of (n, n)\n",
    "    # loop through points on the plate\n",
    "    #   loop through the circles\n",
    "    #   check if point fall into the circle, if yes -> change to 1\n",
    "    size=2.\n",
    "    h=size/n\n",
    "    num_circ = np.random.randint(n_circ[0], n_circ[1])\n",
    "    x, y = 2*np.random.random((num_circ,)), 2*np.random.random((num_circ,))\n",
    "    radius = (size*radius_frac[1]-size*radius_frac[0])*np.random.random((num_circ,))+size*radius_frac[1]\n",
    "    circs = np.stack((x, y, radius), axis=1)\n",
    "    plate = np.zeros(shape=(n, n))\n",
    "    for i in range(n):\n",
    "        for j in range(n):\n",
    "            x_i = h*(i+1)-0.5*h\n",
    "            y_i = h*(j+1)-0.5*h\n",
    "            for c in range(num_circ):\n",
    "                d_sq = np.power(circs[c][0]-x_i, 2) + np.power(circs[c][1]-y_i, 2)\n",
    "                if(d_sq < circs[c][2]*circs[c][2]):\n",
    "                    plate[i][j] = 1.\n",
    "    return plate"
   ]
  },
  {
   "cell_type": "code",
   "execution_count": 15,
   "metadata": {},
   "outputs": [
    {
     "data": {
      "text/plain": [
       "<matplotlib.image.AxesImage at 0x11ee5d890>"
      ]
     },
     "execution_count": 15,
     "metadata": {},
     "output_type": "execute_result"
    },
    {
     "data": {
      "image/png": "[encoded data removed]",
      "text/plain": [
       "<Figure size 640x480 with 1 Axes>"
      ]
     },
     "metadata": {},
     "output_type": "display_data"
    }
   ],
   "source": [
    "my_plate = circles_pattern(n_circ=[1,3], radius_frac=[1/4., 1/2.])\n",
    "plt.imshow(my_plate)"
   ]
  },
  {
   "cell_type": "code",
   "execution_count": 16,
   "metadata": {},
   "outputs": [],
   "source": [
    "left, left_conn = define_curved_nodes(my_plate)"
   ]
  },
  {
   "cell_type": "code",
   "execution_count": 17,
   "metadata": {},
   "outputs": [
    {
     "data": {
      "text/plain": [
       "<matplotlib.image.AxesImage at 0x11ef4d2d0>"
      ]
     },
     "execution_count": 17,
     "metadata": {},
     "output_type": "execute_result"
    },
    {
     "data": {
      "image/png": "[encoded data removed]",
      "text/plain": [
       "<Figure size 640x480 with 1 Axes>"
      ]
     },
     "metadata": {},
     "output_type": "display_data"
    }
   ],
   "source": [
    "plt.imshow(left[0])"
   ]
  },
  {
   "cell_type": "code",
   "execution_count": 18,
   "metadata": {},
   "outputs": [
    {
     "data": {
      "text/plain": [
       "[array([[ 27,  60],\n",
       "        [ 60,  93],\n",
       "        [ 93,  94],\n",
       "        [ 94, 127],\n",
       "        [127, 128],\n",
       "        [128, 161],\n",
       "        [161, 162],\n",
       "        [162, 195],\n",
       "        [195, 228],\n",
       "        [228, 229],\n",
       "        [229, 262],\n",
       "        [262, 295],\n",
       "        [295, 328],\n",
       "        [328, 361],\n",
       "        [361, 362]])]"
      ]
     },
     "execution_count": 18,
     "metadata": {},
     "output_type": "execute_result"
    }
   ],
   "source": [
    "left_conn"
   ]
  }
 ],
 "metadata": {
  "kernelspec": {
   "display_name": "computer_vision",
   "language": "python",
   "name": "python3"
  },
  "language_info": {
   "codemirror_mode": {
    "name": "ipython",
    "version": 3
   },
   "file_extension": ".py",
   "mimetype": "text/x-python",
   "name": "python",
   "nbconvert_exporter": "python",
   "pygments_lexer": "ipython3",
   "version": "3.11.4"
  }
 },
 "nbformat": 4,
 "nbformat_minor": 2
}
