{
 "cells": [
  {
   "cell_type": "markdown",
   "metadata": {},
   "source": [
    "Test the PAC pool function"
   ]
  },
  {
   "cell_type": "code",
   "execution_count": 1,
   "metadata": {},
   "outputs": [],
   "source": [
    "import pacnet.pac as pac\n",
    "\n",
    "import torch\n",
    "import torch.nn as nn\n",
    "import torch.nn.functional as F\n",
    "\n",
    "from torch.utils.data import DataLoader\n",
    "from torch.nn.modules.utils import _pair\n",
    "import os\n",
    "import numpy as np\n",
    "import matplotlib.pyplot as plt\n",
    "import math\n",
    "import random\n",
    "import time\n",
    "from functools import reduce\n",
    "from utils import plot\n",
    "from data.dataset import ElasticityDataSet"
   ]
  },
  {
   "cell_type": "code",
   "execution_count": 2,
   "metadata": {},
   "outputs": [
    {
     "data": {
      "text/plain": [
       "tensor([[8., 3., 6., 5., 4.],\n",
       "        [8., 0., 2., 1., 8.],\n",
       "        [5., 7., 3., 7., 7.],\n",
       "        [4., 4., 3., 3., 8.],\n",
       "        [2., 8., 7., 1., 0.]])"
      ]
     },
     "execution_count": 2,
     "metadata": {},
     "output_type": "execute_result"
    }
   ],
   "source": [
    "temp = torch.randint(0, 9, (2, 2, 5, 5)).float()\n",
    "temp[0, 0]"
   ]
  },
  {
   "cell_type": "code",
   "execution_count": 3,
   "metadata": {},
   "outputs": [],
   "source": [
    "sac = pac.PacPool2d(out_channels=2, kernel_size=3, padding=1, kernel_type='quad')\n",
    "pool = nn.AvgPool2d(3, 1, padding=1)\n"
   ]
  },
  {
   "cell_type": "code",
   "execution_count": 4,
   "metadata": {},
   "outputs": [],
   "source": [
    "def gen_kernels(a):\n",
    "    #k1 = 1./9.*torch.asarray([[1,1,1],[1,1,1],[1,1,1]], dtype=torch.float32)\n",
    "    #k2 = 1./9.*torch.asarray([[1,1,1],[1,1,1],[1,1,1]], dtype=torch.float32)\n",
    "    k1 = torch.asarray([[0,1,0],[0,2,0],[0,1,0]], dtype=torch.float32)\n",
    "    k2 = torch.asarray([[0,0,0],[1,2,1],[0,0,0]], dtype=torch.float32)\n",
    "    b, ch, h, w = a.shape\n",
    "    out = torch.zeros(size=(b, ch, 3, 3, h, w))\n",
    "    for i in range(h):\n",
    "        for j in range(w):\n",
    "            if ((i+j)%2 != 0):\n",
    "                out[:, :, :, :, i, j] = k1 * (i+j)\n",
    "            else:\n",
    "                out[:, :, :, :, i, j] = k2 * (i+j)\n",
    "    return out"
   ]
  },
  {
   "cell_type": "code",
   "execution_count": 5,
   "metadata": {},
   "outputs": [],
   "source": [
    "kernels = gen_kernels(temp)"
   ]
  },
  {
   "cell_type": "code",
   "execution_count": 6,
   "metadata": {},
   "outputs": [
    {
     "data": {
      "text/plain": [
       "tensor([[[[2.1111, 3.0000, 1.8889, 2.8889, 2.0000],\n",
       "          [3.4444, 4.6667, 3.7778, 4.7778, 3.5556],\n",
       "          [3.1111, 4.0000, 3.3333, 4.6667, 3.7778],\n",
       "          [3.3333, 4.7778, 4.7778, 4.3333, 2.8889],\n",
       "          [2.0000, 3.1111, 2.8889, 2.4444, 1.3333]],\n",
       "\n",
       "         [[1.0000, 2.0000, 3.2222, 4.1111, 3.1111],\n",
       "          [1.4444, 2.5556, 4.3333, 5.5556, 4.4444],\n",
       "          [2.3333, 3.7778, 4.5556, 5.0000, 3.5556],\n",
       "          [2.4444, 3.2222, 4.2222, 4.1111, 3.3333],\n",
       "          [2.0000, 2.6667, 3.1111, 2.6667, 2.0000]]],\n",
       "\n",
       "\n",
       "        [[[1.7778, 3.3333, 3.0000, 2.6667, 1.1111],\n",
       "          [2.6667, 4.2222, 4.3333, 3.2222, 1.6667],\n",
       "          [2.6667, 4.1111, 3.3333, 2.4444, 1.0000],\n",
       "          [2.2222, 3.5556, 4.1111, 3.3333, 2.0000],\n",
       "          [1.3333, 2.6667, 2.7778, 2.7778, 1.4444]],\n",
       "\n",
       "         [[1.4444, 2.6667, 2.7778, 2.8889, 1.6667],\n",
       "          [2.5556, 4.6667, 4.2222, 4.6667, 2.5556],\n",
       "          [2.4444, 4.3333, 3.3333, 4.5556, 2.6667],\n",
       "          [3.2222, 4.7778, 3.5556, 4.8889, 3.3333],\n",
       "          [2.1111, 2.7778, 2.1111, 3.1111, 2.4444]]]])"
      ]
     },
     "execution_count": 6,
     "metadata": {},
     "output_type": "execute_result"
    }
   ],
   "source": [
    "out_pool = pool(temp)\n",
    "out_pool"
   ]
  },
  {
   "cell_type": "code",
   "execution_count": 7,
   "metadata": {},
   "outputs": [
    {
     "data": {
      "text/plain": [
       "tensor([[[[  0.,   6.,  40.,  33.,  52.],\n",
       "          [ 29.,  20.,  39.,  48., 135.],\n",
       "          [ 34.,  54.,  80.,  90., 126.],\n",
       "          [ 45.,  60.,  80., 102., 161.],\n",
       "          [ 48., 100., 138.,  35.,   8.]],\n",
       "\n",
       "         [[  0.,  10.,  32.,  60.,  92.],\n",
       "          [  5.,  30.,  48., 100., 135.],\n",
       "          [ 12.,  39.,  44., 120., 102.],\n",
       "          [ 51.,  92.,  65., 102.,  98.],\n",
       "          [ 28.,  75.,  78., 140., 112.]]],\n",
       "\n",
       "\n",
       "        [[[  0.,   9.,  56.,  48.,  32.],\n",
       "          [ 19.,  32.,  60.,  32.,  25.],\n",
       "          [ 16.,  63.,  48.,  40.,  36.],\n",
       "          [ 18.,  72.,  95.,  54.,  84.],\n",
       "          [ 20.,  70., 114.,  56., 144.]],\n",
       "\n",
       "         [[  0.,  16.,  46.,  33.,  60.],\n",
       "          [ 12.,  16.,  75.,  48., 105.],\n",
       "          [ 30.,  42.,  84.,  20.,  96.],\n",
       "          [ 75.,  68.,  85., 102., 210.],\n",
       "          [ 68.,  30.,  72.,  91., 136.]]]])"
      ]
     },
     "execution_count": 7,
     "metadata": {},
     "output_type": "execute_result"
    }
   ],
   "source": [
    "out_sac = sac(temp, None, kernels)\n",
    "out_sac"
   ]
  },
  {
   "cell_type": "code",
   "execution_count": 8,
   "metadata": {},
   "outputs": [
    {
     "data": {
      "text/plain": [
       "tensor([[[[1.]],\n",
       "\n",
       "         [[1.]]],\n",
       "\n",
       "\n",
       "        [[[1.]],\n",
       "\n",
       "         [[1.]]]])"
      ]
     },
     "execution_count": 8,
     "metadata": {},
     "output_type": "execute_result"
    }
   ],
   "source": [
    "# test group_net\n",
    "group_net = nn.Conv2d(in_channels=4, out_channels=2, kernel_size=1, groups=2, bias=False)\n",
    "group_net.weight.data.fill_(1.0)"
   ]
  },
  {
   "cell_type": "code",
   "execution_count": 9,
   "metadata": {},
   "outputs": [
    {
     "data": {
      "text/plain": [
       "tensor([[[5., 6., 0., 0., 1.],\n",
       "         [1., 4., 3., 4., 6.],\n",
       "         [1., 6., 1., 0., 8.],\n",
       "         [6., 8., 7., 3., 6.],\n",
       "         [3., 4., 4., 2., 8.]],\n",
       "\n",
       "        [[1., 1., 1., 7., 8.],\n",
       "         [2., 8., 6., 3., 5.],\n",
       "         [7., 3., 5., 6., 2.],\n",
       "         [0., 5., 5., 0., 4.],\n",
       "         [7., 6., 0., 3., 2.]],\n",
       "\n",
       "        [[7., 1., 2., 1., 5.],\n",
       "         [2., 1., 8., 5., 6.],\n",
       "         [8., 1., 1., 3., 8.],\n",
       "         [0., 6., 3., 8., 7.],\n",
       "         [6., 7., 8., 7., 6.]],\n",
       "\n",
       "        [[2., 6., 2., 8., 1.],\n",
       "         [7., 2., 1., 7., 7.],\n",
       "         [7., 4., 1., 5., 1.],\n",
       "         [1., 3., 4., 3., 2.],\n",
       "         [1., 5., 3., 5., 3.]]])"
      ]
     },
     "execution_count": 9,
     "metadata": {},
     "output_type": "execute_result"
    }
   ],
   "source": [
    "temp2 = torch.randint(0, 9, (1, 4, 5, 5)).float()\n",
    "temp2[0,:,:,:]"
   ]
  },
  {
   "cell_type": "code",
   "execution_count": 10,
   "metadata": {},
   "outputs": [
    {
     "data": {
      "text/plain": [
       "tensor([[[[ 6.,  7.,  1.,  7.,  9.],\n",
       "          [ 3., 12.,  9.,  7., 11.],\n",
       "          [ 8.,  9.,  6.,  6., 10.],\n",
       "          [ 6., 13., 12.,  3., 10.],\n",
       "          [10., 10.,  4.,  5., 10.]],\n",
       "\n",
       "         [[ 9.,  7.,  4.,  9.,  6.],\n",
       "          [ 9.,  3.,  9., 12., 13.],\n",
       "          [15.,  5.,  2.,  8.,  9.],\n",
       "          [ 1.,  9.,  7., 11.,  9.],\n",
       "          [ 7., 12., 11., 12.,  9.]]]], grad_fn=<ConvolutionBackward0>)"
      ]
     },
     "execution_count": 10,
     "metadata": {},
     "output_type": "execute_result"
    }
   ],
   "source": [
    "group_net(temp2)"
   ]
  },
  {
   "cell_type": "code",
   "execution_count": 11,
   "metadata": {},
   "outputs": [],
   "source": [
    "# test f_net()\n",
    "f_net = nn.Conv2d(in_channels=2,out_channels=2,kernel_size=3, padding=1, groups=2, bias=False)"
   ]
  },
  {
   "cell_type": "code",
   "execution_count": 12,
   "metadata": {},
   "outputs": [
    {
     "data": {
      "text/plain": [
       "tensor([[[8., 3., 6., 5., 4.],\n",
       "         [8., 0., 2., 1., 8.],\n",
       "         [5., 7., 3., 7., 7.],\n",
       "         [4., 4., 3., 3., 8.],\n",
       "         [2., 8., 7., 1., 0.]],\n",
       "\n",
       "        [[1., 3., 3., 7., 8.],\n",
       "         [1., 4., 6., 6., 7.],\n",
       "         [2., 2., 1., 7., 5.],\n",
       "         [7., 5., 6., 4., 3.],\n",
       "         [1., 5., 0., 8., 3.]]])"
      ]
     },
     "execution_count": 12,
     "metadata": {},
     "output_type": "execute_result"
    }
   ],
   "source": [
    "temp[0]"
   ]
  },
  {
   "cell_type": "code",
   "execution_count": 13,
   "metadata": {},
   "outputs": [],
   "source": [
    "h = 0.1\n",
    "f_weights = torch.asarray([ [h*h/36., h*h/9., h*h/36.],\n",
    "                            [h*h/9., 4.*h*h/9., h*h/9.],\n",
    "                            [h*h/36., h*h/9., h*h/36.]], dtype=torch.double).reshape(1,1,3,3)\n",
    "f_net.weight.data[:] = f_weights\n",
    "out = f_net(temp)"
   ]
  },
  {
   "cell_type": "code",
   "execution_count": 14,
   "metadata": {},
   "outputs": [
    {
     "data": {
      "text/plain": [
       "tensor([[[0.0478, 0.0317, 0.0381, 0.0372, 0.0325],\n",
       "         [0.0528, 0.0283, 0.0261, 0.0344, 0.0522],\n",
       "         [0.0444, 0.0492, 0.0367, 0.0525, 0.0578],\n",
       "         [0.0342, 0.0469, 0.0386, 0.0392, 0.0489],\n",
       "         [0.0233, 0.0519, 0.0464, 0.0186, 0.0108]],\n",
       "\n",
       "        [[0.0100, 0.0242, 0.0339, 0.0536, 0.0528],\n",
       "         [0.0136, 0.0331, 0.0475, 0.0614, 0.0561],\n",
       "         [0.0225, 0.0278, 0.0331, 0.0550, 0.0439],\n",
       "         [0.0419, 0.0456, 0.0439, 0.0469, 0.0308],\n",
       "         [0.0192, 0.0325, 0.0236, 0.0458, 0.0267]]], grad_fn=<SelectBackward0>)"
      ]
     },
     "execution_count": 14,
     "metadata": {},
     "output_type": "execute_result"
    }
   ],
   "source": [
    "out[0]"
   ]
  },
  {
   "cell_type": "code",
   "execution_count": 17,
   "metadata": {},
   "outputs": [],
   "source": [
    "a = torch.asarray([1,2,3,4,5,6,7,8,9,0,-1,-2,-3]).reshape(1,1,1,-1)"
   ]
  }
 ],
 "metadata": {
  "kernelspec": {
   "display_name": "Python 3.8.13 ('pytorch11')",
   "language": "python",
   "name": "python3"
  },
  "language_info": {
   "codemirror_mode": {
    "name": "ipython",
    "version": 3
   },
   "file_extension": ".py",
   "mimetype": "text/x-python",
   "name": "python",
   "nbconvert_exporter": "python",
   "pygments_lexer": "ipython3",
   "version": "3.8.13"
  },
  "orig_nbformat": 4,
  "vscode": {
   "interpreter": {
    "hash": "926ad5c238a4420011e83b59655d6cd21b021d9ee1aa0438d38aa969cfe55744"
   }
  }
 },
 "nbformat": 4,
 "nbformat_minor": 2
}
